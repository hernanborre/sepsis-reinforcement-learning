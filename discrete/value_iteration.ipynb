{
 "cells": [
  {
   "cell_type": "code",
   "execution_count": null,
   "metadata": {
    "collapsed": true
   },
   "outputs": [],
   "source": [
    "# Use value iteration to find the optimal policy according to the MDP transition distribution"
   ]
  },
  {
   "cell_type": "code",
   "execution_count": 1,
   "metadata": {
    "collapsed": true,
    "deletable": true,
    "editable": true
   },
   "outputs": [],
   "source": [
    "import numpy as np\n",
    "import cPickle as pickle"
   ]
  },
  {
   "cell_type": "code",
   "execution_count": 2,
   "metadata": {
    "collapsed": false,
    "deletable": true,
    "editable": true
   },
   "outputs": [],
   "source": [
    "#transition distribution is a dictionary of {(state, action) : {next_state : prob }}\n",
    "trans_mat = pickle.load(open( \"trans_prob.p\", \"rb\" ))"
   ]
  },
  {
   "cell_type": "code",
   "execution_count": 3,
   "metadata": {
    "collapsed": true,
    "deletable": true,
    "editable": true
   },
   "outputs": [],
   "source": [
    "gamma = 0.9"
   ]
  },
  {
   "cell_type": "code",
   "execution_count": 4,
   "metadata": {
    "collapsed": true,
    "deletable": true,
    "editable": true
   },
   "outputs": [],
   "source": [
    "def find_best(state):\n",
    "    best_value = 0\n",
    "    best_action = None\n",
    "    for action in range(25):\n",
    "        cur_value = 0\n",
    "        try:\n",
    "            prob_dist = trans_mat[(state,action)]\n",
    "        except KeyError:\n",
    "            #print \"key not found - \", (state,action)\n",
    "            continue\n",
    "        for next_state in prob_dist.keys():\n",
    "            if next_state == 'END_REWARD':\n",
    "                reward = 100\n",
    "                next_value = 0\n",
    "            elif next_state == 'END_PENALTY':\n",
    "                reward = -100\n",
    "                next_value = 0\n",
    "            else:\n",
    "                reward = 0\n",
    "                next_value = V[next_state]\n",
    "            try:\n",
    "                cur_value += prob_dist[next_state] * (reward + gamma * next_value)\n",
    "            except IndexError:\n",
    "                print \"got error\"\n",
    "        if cur_value >= best_value:\n",
    "            best_value = cur_value\n",
    "            best_action = action\n",
    "    return best_value,best_action"
   ]
  },
  {
   "cell_type": "code",
   "execution_count": 5,
   "metadata": {
    "collapsed": false,
    "deletable": true,
    "editable": true
   },
   "outputs": [],
   "source": [
    "# this implements value iteration - a DP method to find the optimal policy \n",
    "# https://webdocs.cs.ualberta.ca/~sutton/book/ebook/node44.html#eq:value_iteration\n",
    "best_val_track = []\n",
    "V = np.zeros(1250, dtype=np.int)\n",
    "delta = None\n",
    "while delta is None or delta > 0.00001:\n",
    "    delta = 0\n",
    "    best_val_sum = 0\n",
    "    for state in range(750):\n",
    "        old_val = V[state]\n",
    "        best_val, _ = find_best(state)\n",
    "        V[state] = best_val\n",
    "        best_val_sum += best_val\n",
    "        delta += np.absolute(old_val - V[state])\n",
    "    best_val_track.append(float(best_val)/1250.0)"
   ]
  },
  {
   "cell_type": "code",
   "execution_count": 6,
   "metadata": {
    "collapsed": false,
    "deletable": true,
    "editable": true
   },
   "outputs": [],
   "source": [
    "policy = np.zeros(1250, dtype=np.int)\n",
    "for state in range(1250):\n",
    "    _, best_action = find_best(state)\n",
    "    if best_action is None:\n",
    "        policy[state] = 0\n",
    "    else:\n",
    "        policy[state] = best_action"
   ]
  },
  {
   "cell_type": "code",
   "execution_count": 7,
   "metadata": {
    "collapsed": false,
    "deletable": true,
    "editable": true,
    "scrolled": true
   },
   "outputs": [
    {
     "data": {
      "text/plain": [
       "<function matplotlib.pyplot.show>"
      ]
     },
     "execution_count": 7,
     "metadata": {},
     "output_type": "execute_result"
    },
    {
     "data": {
      "image/png": "[encoded data removed]",
      "text/plain": [
       "<matplotlib.figure.Figure at 0x7f4f8623dc10>"
      ]
     },
     "metadata": {},
     "output_type": "display_data"
    }
   ],
   "source": [
    "%matplotlib inline\n",
    "import matplotlib.pyplot as plt\n",
    "plt.plot(best_val_track)\n",
    "plt.show"
   ]
  },
  {
   "cell_type": "code",
   "execution_count": 8,
   "metadata": {
    "collapsed": false,
    "deletable": true,
    "editable": true
   },
   "outputs": [],
   "source": [
    "with open('policy_value_iter.p', 'wb') as f:\n",
    "    pickle.dump(policy, f)"
   ]
  },
  {
   "cell_type": "code",
   "execution_count": 9,
   "metadata": {
    "collapsed": false,
    "deletable": true,
    "editable": true
   },
   "outputs": [],
   "source": [
    "for k,v in trans_mat.items():\n",
    "    tot = sum(v.values())\n",
    "    if tot <0.99 or tot > 1.01:\n",
    "        print \"error\""
   ]
  }
 ],
 "metadata": {
  "kernelspec": {
   "display_name": "Python 2",
   "language": "python",
   "name": "python2"
  },
  "language_info": {
   "codemirror_mode": {
    "name": "ipython",
    "version": 2
   },
   "file_extension": ".py",
   "mimetype": "text/x-python",
   "name": "python",
   "nbconvert_exporter": "python",
   "pygments_lexer": "ipython2",
   "version": "2.7.12"
  }
 },
 "nbformat": 4,
 "nbformat_minor": 2
}
