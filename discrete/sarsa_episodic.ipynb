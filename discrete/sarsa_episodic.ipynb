{
 "cells": [
  {
   "cell_type": "code",
   "execution_count": 1,
   "metadata": {
    "collapsed": true,
    "deletable": true,
    "editable": true
   },
   "outputs": [],
   "source": [
    "# Runs the SARSA algorithm on the training set to find the action value function (Q function) under\n",
    "# the physician policy. \n",
    "# TODO update this for shaped reward functions (once new_rewards.ipynb is updated)"
   ]
  },
  {
   "cell_type": "code",
   "execution_count": 2,
   "metadata": {
    "collapsed": true,
    "deletable": true,
    "editable": true
   },
   "outputs": [],
   "source": [
    "import pandas as pd\n",
    "import numpy as np\n",
    "from pandas import DataFrame"
   ]
  },
  {
   "cell_type": "code",
   "execution_count": 3,
   "metadata": {
    "collapsed": false,
    "deletable": true,
    "editable": true,
    "scrolled": true
   },
   "outputs": [
    {
     "data": {
      "text/html": [
       "<div>\n",
       "<table border=\"1\" class=\"dataframe\">\n",
       "  <thead>\n",
       "    <tr style=\"text-align: right;\">\n",
       "      <th></th>\n",
       "      <th>Unnamed: 0</th>\n",
       "      <th>bloc</th>\n",
       "      <th>icustayid</th>\n",
       "      <th>state</th>\n",
       "      <th>reward</th>\n",
       "      <th>max_dose_vaso</th>\n",
       "      <th>iv_tev_in</th>\n",
       "      <th>mortality</th>\n",
       "    </tr>\n",
       "  </thead>\n",
       "  <tbody>\n",
       "    <tr>\n",
       "      <th>0</th>\n",
       "      <td>0</td>\n",
       "      <td>1</td>\n",
       "      <td>3</td>\n",
       "      <td>1128</td>\n",
       "      <td>0</td>\n",
       "      <td>0.0</td>\n",
       "      <td>4.0</td>\n",
       "      <td>0</td>\n",
       "    </tr>\n",
       "    <tr>\n",
       "      <th>1</th>\n",
       "      <td>1</td>\n",
       "      <td>2</td>\n",
       "      <td>3</td>\n",
       "      <td>1128</td>\n",
       "      <td>0</td>\n",
       "      <td>0.0</td>\n",
       "      <td>4.0</td>\n",
       "      <td>0</td>\n",
       "    </tr>\n",
       "    <tr>\n",
       "      <th>2</th>\n",
       "      <td>2</td>\n",
       "      <td>3</td>\n",
       "      <td>3</td>\n",
       "      <td>1172</td>\n",
       "      <td>0</td>\n",
       "      <td>0.0</td>\n",
       "      <td>2.0</td>\n",
       "      <td>0</td>\n",
       "    </tr>\n",
       "    <tr>\n",
       "      <th>3</th>\n",
       "      <td>3</td>\n",
       "      <td>4</td>\n",
       "      <td>3</td>\n",
       "      <td>1172</td>\n",
       "      <td>0</td>\n",
       "      <td>0.0</td>\n",
       "      <td>2.0</td>\n",
       "      <td>0</td>\n",
       "    </tr>\n",
       "    <tr>\n",
       "      <th>4</th>\n",
       "      <td>4</td>\n",
       "      <td>5</td>\n",
       "      <td>3</td>\n",
       "      <td>464</td>\n",
       "      <td>0</td>\n",
       "      <td>0.0</td>\n",
       "      <td>2.0</td>\n",
       "      <td>0</td>\n",
       "    </tr>\n",
       "  </tbody>\n",
       "</table>\n",
       "</div>"
      ],
      "text/plain": [
       "   Unnamed: 0  bloc  icustayid  state  reward  max_dose_vaso  iv_tev_in  \\\n",
       "0           0     1          3   1128       0            0.0        4.0   \n",
       "1           1     2          3   1128       0            0.0        4.0   \n",
       "2           2     3          3   1172       0            0.0        2.0   \n",
       "3           3     4          3   1172       0            0.0        2.0   \n",
       "4           4     5          3    464       0            0.0        2.0   \n",
       "\n",
       "   mortality  \n",
       "0          0  \n",
       "1          0  \n",
       "2          0  \n",
       "3          0  \n",
       "4          0  "
      ]
     },
     "execution_count": 3,
     "metadata": {},
     "output_type": "execute_result"
    }
   ],
   "source": [
    "# df = pd.read_csv(\"rl_train_set.csv\")\n",
    "df = pd.read_csv(\"../data/rl_train_data_final_discrete.csv\")\n",
    "df.head()"
   ]
  },
  {
   "cell_type": "code",
   "execution_count": 4,
   "metadata": {
    "collapsed": true,
    "deletable": true,
    "editable": true
   },
   "outputs": [],
   "source": [
    "#hyperparams\n",
    "alpha = 0.1\n",
    "# gamma = 0.99\n",
    "gamma = 1"
   ]
  },
  {
   "cell_type": "code",
   "execution_count": 5,
   "metadata": {
    "collapsed": true,
    "deletable": true,
    "editable": true
   },
   "outputs": [],
   "source": [
    "# define an action mapping - how to get an id representing the action from the (iv,vaso) tuple\n",
    "# this is copied over from find_transition_matrix. Should really pass as argument - todo for when this\n",
    "# is implemented properly!\n",
    "action_map = {}\n",
    "count = 0\n",
    "for iv in range(5):\n",
    "    for vaso in range(5):\n",
    "        action_map[(iv,vaso)] = count\n",
    "        count += 1"
   ]
  },
  {
   "cell_type": "code",
   "execution_count": 7,
   "metadata": {
    "collapsed": false,
    "deletable": true,
    "editable": true
   },
   "outputs": [],
   "source": [
    "# get the unique ids\n",
    "unique_ids = df['icustayid'].unique()"
   ]
  },
  {
   "cell_type": "code",
   "execution_count": 13,
   "metadata": {
    "collapsed": true,
    "deletable": true,
    "editable": true
   },
   "outputs": [],
   "source": [
    "q_new = np.zeros((1250,25), dtype=np.float32)"
   ]
  },
  {
   "cell_type": "code",
   "execution_count": 14,
   "metadata": {
    "collapsed": true,
    "deletable": true,
    "editable": true
   },
   "outputs": [],
   "source": [
    "REWARD_THRESHOLD = 15"
   ]
  },
  {
   "cell_type": "code",
   "execution_count": 15,
   "metadata": {
    "collapsed": true,
    "deletable": true,
    "editable": true
   },
   "outputs": [],
   "source": [
    "import sys\n",
    "def q_learn_backwards_new(trajectory):\n",
    "    global q_new\n",
    "    #count indexes the rows in the dataframe from zero - row doesn't\n",
    "    count = 0\n",
    "    reversed_traj = trajectory.iloc[::-1]\n",
    "    for row in reversed_traj.index:\n",
    "        count += 1          \n",
    "        iv = int(reversed_traj.ix[row, 'iv_tev_in'])\n",
    "        vaso = int(reversed_traj.ix[row, 'max_dose_vaso'])\n",
    "        action = action_map[iv,vaso]\n",
    "        state = reversed_traj.ix[row,'state']\n",
    "        reward = reversed_traj.ix[row,'reward']\n",
    "        if reward > REWARD_THRESHOLD:\n",
    "            reward = REWARD_THRESHOLD\n",
    "        elif reward < -1* REWARD_THRESHOLD:\n",
    "            reward = -1 * REWARD_THRESHOLD\n",
    "        assert(abs(reward) <= REWARD_THRESHOLD)\n",
    "        if count == 1:\n",
    "            if reward == 0:\n",
    "                print \"length is \", len(trajectory)\n",
    "                print \"count is \", count\n",
    "                print reversed_traj\n",
    "                sys.exit(-1)\n",
    "            else:\n",
    "                q_new[state, action] = q_new[state, action] + alpha * (reward - q_new[state,action])\n",
    "        else:\n",
    "            try:\n",
    "                next_state = reversed_traj.ix[row + 1,'state']\n",
    "            except KeyError:\n",
    "                print \"row is \", row\n",
    "                print reversed_traj\n",
    "                raise\n",
    "            # COMMENT OUT NEXT FOUR if we wish to learn Qstar - the optimal q function\n",
    "            next_iv = int(reversed_traj.ix[row+1, 'iv_tev_in'])\n",
    "            next_vaso = int(reversed_traj.ix[row+1, 'max_dose_vaso'])\n",
    "            next_action = action_map[next_iv,next_vaso]\n",
    "            next_action_value = q_new[next_state,next_action]\n",
    "#             next_action_value = np.max(q_new[next_state])\n",
    "\n",
    "            q_new[state, action] = q_new[state, action] + \\\n",
    "                            alpha * (reward + gamma * next_action_value - q_new[state,action])"
   ]
  },
  {
   "cell_type": "code",
   "execution_count": 16,
   "metadata": {
    "collapsed": true,
    "deletable": true,
    "editable": true
   },
   "outputs": [
    {
     "name": "stdout",
     "output_type": "stream",
     "text": [
      "0\n",
      "10000\n",
      "20000\n",
      "30000\n",
      "40000\n",
      "50000\n",
      "60000\n",
      "70000\n",
      "80000\n",
      "90000\n",
      "100000\n",
      "110000\n",
      "120000\n",
      "130000\n",
      "140000\n",
      "150000\n",
      "160000\n",
      "170000\n",
      "180000\n",
      "190000\n",
      "200000\n",
      "210000\n",
      "220000\n",
      "230000\n",
      "240000\n"
     ]
    }
   ],
   "source": [
    "# new main loop\n",
    "# the main loop - sample from unique_ids and extract the trajectory\n",
    "# perform the q value update on these data\n",
    "net_qs = []\n",
    "num_steps = 250000\n",
    "for step in range(num_steps):\n",
    "    if step % 1000 == 0:\n",
    "        net_qs.append(np.sum(q_new))\n",
    "    if step % 10000 == 0:\n",
    "        print step\n",
    "    traj_id = np.random.choice(unique_ids)\n",
    "    # select the rows that match this traj id\n",
    "    trajectory = df.loc[df['icustayid'] == traj_id]\n",
    "    if len(trajectory) > 1:\n",
    "        q_learn_backwards_new(trajectory)"
   ]
  },
  {
   "cell_type": "code",
   "execution_count": 17,
   "metadata": {
    "collapsed": false,
    "deletable": true,
    "editable": true,
    "scrolled": true
   },
   "outputs": [
    {
     "data": {
      "text/plain": [
       "<function matplotlib.pyplot.show>"
      ]
     },
     "execution_count": 17,
     "metadata": {},
     "output_type": "execute_result"
    },
    {
     "data": {
      "image/png": "[encoded data removed]",
      "text/plain": [
       "<matplotlib.figure.Figure at 0x7feaf3614fd0>"
      ]
     },
     "metadata": {},
     "output_type": "display_data"
    }
   ],
   "source": [
    "%matplotlib inline\n",
    "import matplotlib.pyplot as plt\n",
    "plt.plot(net_qs)\n",
    "plt.show"
   ]
  },
  {
   "cell_type": "code",
   "execution_count": 20,
   "metadata": {
    "collapsed": true,
    "deletable": true,
    "editable": true
   },
   "outputs": [],
   "source": [
    "# pickle the q vals to file for purposes of evaluation\n",
    "# included the discount factor in the filename for ease later\n",
    "import cPickle as pickle\n",
    "with open('q_table_phys_policy_gamma_1.p', 'wb') as f:\n",
    "    pickle.dump(q_new, f)"
   ]
  },
  {
   "cell_type": "code",
   "execution_count": null,
   "metadata": {
    "collapsed": true,
    "deletable": true,
    "editable": true
   },
   "outputs": [],
   "source": [
    "policy = np.zeros(1250, dtype=np.int)\n",
    "for state in range(1250):\n",
    "    best_action = np.argmax(q_new[state])\n",
    "    if best_action is None:\n",
    "        policy[state] = 0\n",
    "    else:\n",
    "        policy[state] = best_action"
   ]
  },
  {
   "cell_type": "code",
   "execution_count": null,
   "metadata": {
    "collapsed": true
   },
   "outputs": [],
   "source": [
    "with open('policy_discrete_sarsa.p', 'wb') as f:\n",
    "    pickle.dump(policy, f)"
   ]
  }
 ],
 "metadata": {
  "kernelspec": {
   "display_name": "Python 2",
   "language": "python",
   "name": "python2"
  },
  "language_info": {
   "codemirror_mode": {
    "name": "ipython",
    "version": 2
   },
   "file_extension": ".py",
   "mimetype": "text/x-python",
   "name": "python",
   "nbconvert_exporter": "python",
   "pygments_lexer": "ipython2",
   "version": "2.7.12"
  }
 },
 "nbformat": 4,
 "nbformat_minor": 2
}
