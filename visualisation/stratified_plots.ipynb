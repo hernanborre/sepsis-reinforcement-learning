{
 "cells": [
  {
   "cell_type": "code",
   "execution_count": 1,
   "metadata": {
    "collapsed": true
   },
   "outputs": [],
   "source": [
    "# Make plots of the deviation in treatment vs mortality, stratified for different subcohorts of patients\n",
    "# those with high SOFA: extract points where SOFA > 15\n",
    "# those with low SOFA: extract points where SOFA < 5\n",
    "# those with middling SOFA: between 5 and 15\n",
    "# Plot variation over time?"
   ]
  },
  {
   "cell_type": "code",
   "execution_count": 2,
   "metadata": {
    "collapsed": true
   },
   "outputs": [],
   "source": [
    "%matplotlib inline\n",
    "import pandas as pd\n",
    "import numpy as np\n",
    "import cPickle as pickle\n",
    "import matplotlib.pyplot as plt"
   ]
  },
  {
   "cell_type": "code",
   "execution_count": 3,
   "metadata": {
    "collapsed": true
   },
   "outputs": [],
   "source": [
    "df_orig = pd.read_csv('../data/MKdataset07Feb17.csv')"
   ]
  },
  {
   "cell_type": "code",
   "execution_count": 4,
   "metadata": {
    "collapsed": true
   },
   "outputs": [],
   "source": [
    "df_train = pd.read_csv('../data/rl_train_data_final_cont.csv')"
   ]
  },
  {
   "cell_type": "code",
   "execution_count": 5,
   "metadata": {
    "collapsed": true
   },
   "outputs": [],
   "source": [
    "df_test = pd.read_csv('../data/rl_test_data_final_cont.csv')"
   ]
  },
  {
   "cell_type": "code",
   "execution_count": 6,
   "metadata": {
    "collapsed": true
   },
   "outputs": [],
   "source": [
    "df_train_orig = df_orig[df_orig['icustayid'].isin(df_train['icustayid'].unique())]"
   ]
  },
  {
   "cell_type": "code",
   "execution_count": 7,
   "metadata": {
    "collapsed": true
   },
   "outputs": [],
   "source": [
    "df_test_orig = df_orig[df_orig['icustayid'].isin(df_test['icustayid'].unique())]"
   ]
  },
  {
   "cell_type": "code",
   "execution_count": 8,
   "metadata": {},
   "outputs": [
    {
     "data": {
      "text/html": [
       "<div>\n",
       "<style>\n",
       "    .dataframe thead tr:only-child th {\n",
       "        text-align: right;\n",
       "    }\n",
       "\n",
       "    .dataframe thead th {\n",
       "        text-align: left;\n",
       "    }\n",
       "\n",
       "    .dataframe tbody tr th {\n",
       "        vertical-align: top;\n",
       "    }\n",
       "</style>\n",
       "<table border=\"1\" class=\"dataframe\">\n",
       "  <thead>\n",
       "    <tr style=\"text-align: right;\">\n",
       "      <th></th>\n",
       "      <th>bloc</th>\n",
       "      <th>icustayid</th>\n",
       "      <th>charttime</th>\n",
       "      <th>gender</th>\n",
       "      <th>age</th>\n",
       "      <th>elixhauser</th>\n",
       "      <th>re_admission</th>\n",
       "      <th>died_in_hosp</th>\n",
       "      <th>mortality_90d</th>\n",
       "      <th>Weight_kg</th>\n",
       "      <th>...</th>\n",
       "      <th>median_dose_vaso</th>\n",
       "      <th>max_dose_vaso</th>\n",
       "      <th>input_total_tev</th>\n",
       "      <th>input_4hourly_tev</th>\n",
       "      <th>output_total</th>\n",
       "      <th>output_4hourly</th>\n",
       "      <th>cumulated_balance_tev</th>\n",
       "      <th>vaso_input</th>\n",
       "      <th>iv_input</th>\n",
       "      <th>reward</th>\n",
       "    </tr>\n",
       "  </thead>\n",
       "  <tbody>\n",
       "    <tr>\n",
       "      <th>0</th>\n",
       "      <td>0.000000</td>\n",
       "      <td>33</td>\n",
       "      <td>7214126400</td>\n",
       "      <td>0.0</td>\n",
       "      <td>0.669454</td>\n",
       "      <td>0.357143</td>\n",
       "      <td>0.0</td>\n",
       "      <td>1</td>\n",
       "      <td>1</td>\n",
       "      <td>0.247458</td>\n",
       "      <td>...</td>\n",
       "      <td>0.0</td>\n",
       "      <td>0.0</td>\n",
       "      <td>0.883180</td>\n",
       "      <td>0.838839</td>\n",
       "      <td>0.834329</td>\n",
       "      <td>0.776672</td>\n",
       "      <td>0.585147</td>\n",
       "      <td>0.0</td>\n",
       "      <td>4.0</td>\n",
       "      <td>-0.025</td>\n",
       "    </tr>\n",
       "    <tr>\n",
       "      <th>1</th>\n",
       "      <td>0.222560</td>\n",
       "      <td>33</td>\n",
       "      <td>7214140800</td>\n",
       "      <td>0.0</td>\n",
       "      <td>0.669454</td>\n",
       "      <td>0.357143</td>\n",
       "      <td>0.0</td>\n",
       "      <td>1</td>\n",
       "      <td>1</td>\n",
       "      <td>0.247458</td>\n",
       "      <td>...</td>\n",
       "      <td>0.0</td>\n",
       "      <td>0.0</td>\n",
       "      <td>0.888664</td>\n",
       "      <td>0.848773</td>\n",
       "      <td>0.839133</td>\n",
       "      <td>0.797009</td>\n",
       "      <td>0.592405</td>\n",
       "      <td>0.0</td>\n",
       "      <td>4.0</td>\n",
       "      <td>-0.025</td>\n",
       "    </tr>\n",
       "    <tr>\n",
       "      <th>2</th>\n",
       "      <td>0.356608</td>\n",
       "      <td>33</td>\n",
       "      <td>7214155200</td>\n",
       "      <td>0.0</td>\n",
       "      <td>0.669454</td>\n",
       "      <td>0.357143</td>\n",
       "      <td>0.0</td>\n",
       "      <td>1</td>\n",
       "      <td>1</td>\n",
       "      <td>0.247458</td>\n",
       "      <td>...</td>\n",
       "      <td>0.0</td>\n",
       "      <td>0.0</td>\n",
       "      <td>0.894069</td>\n",
       "      <td>0.854142</td>\n",
       "      <td>0.842937</td>\n",
       "      <td>0.779852</td>\n",
       "      <td>0.601449</td>\n",
       "      <td>0.0</td>\n",
       "      <td>4.0</td>\n",
       "      <td>-0.025</td>\n",
       "    </tr>\n",
       "    <tr>\n",
       "      <th>3</th>\n",
       "      <td>0.452837</td>\n",
       "      <td>33</td>\n",
       "      <td>7214169600</td>\n",
       "      <td>0.0</td>\n",
       "      <td>0.669454</td>\n",
       "      <td>0.357143</td>\n",
       "      <td>0.0</td>\n",
       "      <td>1</td>\n",
       "      <td>1</td>\n",
       "      <td>0.247458</td>\n",
       "      <td>...</td>\n",
       "      <td>0.0</td>\n",
       "      <td>0.0</td>\n",
       "      <td>0.898397</td>\n",
       "      <td>0.839183</td>\n",
       "      <td>0.845526</td>\n",
       "      <td>0.746598</td>\n",
       "      <td>0.609910</td>\n",
       "      <td>0.0</td>\n",
       "      <td>4.0</td>\n",
       "      <td>-0.025</td>\n",
       "    </tr>\n",
       "    <tr>\n",
       "      <th>4</th>\n",
       "      <td>0.527957</td>\n",
       "      <td>33</td>\n",
       "      <td>7214184000</td>\n",
       "      <td>0.0</td>\n",
       "      <td>0.669454</td>\n",
       "      <td>0.357143</td>\n",
       "      <td>0.0</td>\n",
       "      <td>1</td>\n",
       "      <td>1</td>\n",
       "      <td>0.247458</td>\n",
       "      <td>...</td>\n",
       "      <td>0.0</td>\n",
       "      <td>0.0</td>\n",
       "      <td>0.901804</td>\n",
       "      <td>0.821399</td>\n",
       "      <td>0.848365</td>\n",
       "      <td>0.758993</td>\n",
       "      <td>0.615787</td>\n",
       "      <td>0.0</td>\n",
       "      <td>4.0</td>\n",
       "      <td>-0.625</td>\n",
       "    </tr>\n",
       "  </tbody>\n",
       "</table>\n",
       "<p>5 rows × 60 columns</p>\n",
       "</div>"
      ],
      "text/plain": [
       "       bloc  icustayid   charttime  gender       age  elixhauser  \\\n",
       "0  0.000000         33  7214126400     0.0  0.669454    0.357143   \n",
       "1  0.222560         33  7214140800     0.0  0.669454    0.357143   \n",
       "2  0.356608         33  7214155200     0.0  0.669454    0.357143   \n",
       "3  0.452837         33  7214169600     0.0  0.669454    0.357143   \n",
       "4  0.527957         33  7214184000     0.0  0.669454    0.357143   \n",
       "\n",
       "   re_admission  died_in_hosp  mortality_90d  Weight_kg   ...    \\\n",
       "0           0.0             1              1   0.247458   ...     \n",
       "1           0.0             1              1   0.247458   ...     \n",
       "2           0.0             1              1   0.247458   ...     \n",
       "3           0.0             1              1   0.247458   ...     \n",
       "4           0.0             1              1   0.247458   ...     \n",
       "\n",
       "   median_dose_vaso  max_dose_vaso  input_total_tev  input_4hourly_tev  \\\n",
       "0               0.0            0.0         0.883180           0.838839   \n",
       "1               0.0            0.0         0.888664           0.848773   \n",
       "2               0.0            0.0         0.894069           0.854142   \n",
       "3               0.0            0.0         0.898397           0.839183   \n",
       "4               0.0            0.0         0.901804           0.821399   \n",
       "\n",
       "   output_total  output_4hourly  cumulated_balance_tev  vaso_input  iv_input  \\\n",
       "0      0.834329        0.776672               0.585147         0.0       4.0   \n",
       "1      0.839133        0.797009               0.592405         0.0       4.0   \n",
       "2      0.842937        0.779852               0.601449         0.0       4.0   \n",
       "3      0.845526        0.746598               0.609910         0.0       4.0   \n",
       "4      0.848365        0.758993               0.615787         0.0       4.0   \n",
       "\n",
       "   reward  \n",
       "0  -0.025  \n",
       "1  -0.025  \n",
       "2  -0.025  \n",
       "3  -0.025  \n",
       "4  -0.625  \n",
       "\n",
       "[5 rows x 60 columns]"
      ]
     },
     "execution_count": 8,
     "metadata": {},
     "output_type": "execute_result"
    }
   ],
   "source": [
    "df_test.head()"
   ]
  },
  {
   "cell_type": "code",
   "execution_count": 9,
   "metadata": {},
   "outputs": [
    {
     "data": {
      "text/html": [
       "<div>\n",
       "<style>\n",
       "    .dataframe thead tr:only-child th {\n",
       "        text-align: right;\n",
       "    }\n",
       "\n",
       "    .dataframe thead th {\n",
       "        text-align: left;\n",
       "    }\n",
       "\n",
       "    .dataframe tbody tr th {\n",
       "        vertical-align: top;\n",
       "    }\n",
       "</style>\n",
       "<table border=\"1\" class=\"dataframe\">\n",
       "  <thead>\n",
       "    <tr style=\"text-align: right;\">\n",
       "      <th></th>\n",
       "      <th>bloc</th>\n",
       "      <th>icustayid</th>\n",
       "      <th>charttime</th>\n",
       "      <th>gender</th>\n",
       "      <th>age</th>\n",
       "      <th>elixhauser</th>\n",
       "      <th>re_admission</th>\n",
       "      <th>died_in_hosp</th>\n",
       "      <th>mortality_90d</th>\n",
       "      <th>Weight_kg</th>\n",
       "      <th>...</th>\n",
       "      <th>mechvent</th>\n",
       "      <th>SOFA</th>\n",
       "      <th>SIRS</th>\n",
       "      <th>median_dose_vaso</th>\n",
       "      <th>max_dose_vaso</th>\n",
       "      <th>input_total_tev</th>\n",
       "      <th>input_4hourly_tev</th>\n",
       "      <th>output_total</th>\n",
       "      <th>output_4hourly</th>\n",
       "      <th>cumulated_balance_tev</th>\n",
       "    </tr>\n",
       "  </thead>\n",
       "  <tbody>\n",
       "    <tr>\n",
       "      <th>41</th>\n",
       "      <td>1</td>\n",
       "      <td>33</td>\n",
       "      <td>7214126400</td>\n",
       "      <td>0</td>\n",
       "      <td>24524.747419</td>\n",
       "      <td>5.0</td>\n",
       "      <td>0</td>\n",
       "      <td>1</td>\n",
       "      <td>1</td>\n",
       "      <td>73.0</td>\n",
       "      <td>...</td>\n",
       "      <td>1</td>\n",
       "      <td>2</td>\n",
       "      <td>1</td>\n",
       "      <td>0.0</td>\n",
       "      <td>0.0</td>\n",
       "      <td>10794.791767</td>\n",
       "      <td>725.000000</td>\n",
       "      <td>5686.0</td>\n",
       "      <td>300.0</td>\n",
       "      <td>5108.791767</td>\n",
       "    </tr>\n",
       "    <tr>\n",
       "      <th>42</th>\n",
       "      <td>2</td>\n",
       "      <td>33</td>\n",
       "      <td>7214140800</td>\n",
       "      <td>0</td>\n",
       "      <td>24524.747419</td>\n",
       "      <td>5.0</td>\n",
       "      <td>0</td>\n",
       "      <td>1</td>\n",
       "      <td>1</td>\n",
       "      <td>73.0</td>\n",
       "      <td>...</td>\n",
       "      <td>1</td>\n",
       "      <td>2</td>\n",
       "      <td>1</td>\n",
       "      <td>0.0</td>\n",
       "      <td>0.0</td>\n",
       "      <td>11600.277233</td>\n",
       "      <td>805.485467</td>\n",
       "      <td>6056.0</td>\n",
       "      <td>370.0</td>\n",
       "      <td>5544.277233</td>\n",
       "    </tr>\n",
       "    <tr>\n",
       "      <th>43</th>\n",
       "      <td>3</td>\n",
       "      <td>33</td>\n",
       "      <td>7214155200</td>\n",
       "      <td>0</td>\n",
       "      <td>24524.747419</td>\n",
       "      <td>5.0</td>\n",
       "      <td>0</td>\n",
       "      <td>1</td>\n",
       "      <td>1</td>\n",
       "      <td>73.0</td>\n",
       "      <td>...</td>\n",
       "      <td>1</td>\n",
       "      <td>2</td>\n",
       "      <td>1</td>\n",
       "      <td>0.0</td>\n",
       "      <td>0.0</td>\n",
       "      <td>12452.925233</td>\n",
       "      <td>852.648000</td>\n",
       "      <td>6366.0</td>\n",
       "      <td>310.0</td>\n",
       "      <td>6086.925233</td>\n",
       "    </tr>\n",
       "    <tr>\n",
       "      <th>44</th>\n",
       "      <td>4</td>\n",
       "      <td>33</td>\n",
       "      <td>7214169600</td>\n",
       "      <td>0</td>\n",
       "      <td>24524.747419</td>\n",
       "      <td>5.0</td>\n",
       "      <td>0</td>\n",
       "      <td>1</td>\n",
       "      <td>1</td>\n",
       "      <td>73.0</td>\n",
       "      <td>...</td>\n",
       "      <td>1</td>\n",
       "      <td>2</td>\n",
       "      <td>1</td>\n",
       "      <td>0.0</td>\n",
       "      <td>0.0</td>\n",
       "      <td>13180.573233</td>\n",
       "      <td>727.648000</td>\n",
       "      <td>6586.0</td>\n",
       "      <td>220.0</td>\n",
       "      <td>6594.573233</td>\n",
       "    </tr>\n",
       "    <tr>\n",
       "      <th>45</th>\n",
       "      <td>5</td>\n",
       "      <td>33</td>\n",
       "      <td>7214184000</td>\n",
       "      <td>0</td>\n",
       "      <td>24524.747419</td>\n",
       "      <td>5.0</td>\n",
       "      <td>0</td>\n",
       "      <td>1</td>\n",
       "      <td>1</td>\n",
       "      <td>73.0</td>\n",
       "      <td>...</td>\n",
       "      <td>1</td>\n",
       "      <td>2</td>\n",
       "      <td>1</td>\n",
       "      <td>0.0</td>\n",
       "      <td>0.0</td>\n",
       "      <td>13783.221233</td>\n",
       "      <td>602.648000</td>\n",
       "      <td>6836.0</td>\n",
       "      <td>250.0</td>\n",
       "      <td>6947.221233</td>\n",
       "    </tr>\n",
       "  </tbody>\n",
       "</table>\n",
       "<p>5 rows × 57 columns</p>\n",
       "</div>"
      ],
      "text/plain": [
       "    bloc  icustayid   charttime  gender           age  elixhauser  \\\n",
       "41     1         33  7214126400       0  24524.747419         5.0   \n",
       "42     2         33  7214140800       0  24524.747419         5.0   \n",
       "43     3         33  7214155200       0  24524.747419         5.0   \n",
       "44     4         33  7214169600       0  24524.747419         5.0   \n",
       "45     5         33  7214184000       0  24524.747419         5.0   \n",
       "\n",
       "    re_admission  died_in_hosp  mortality_90d  Weight_kg  \\\n",
       "41             0             1              1       73.0   \n",
       "42             0             1              1       73.0   \n",
       "43             0             1              1       73.0   \n",
       "44             0             1              1       73.0   \n",
       "45             0             1              1       73.0   \n",
       "\n",
       "            ...            mechvent  SOFA  SIRS  median_dose_vaso  \\\n",
       "41          ...                   1     2     1               0.0   \n",
       "42          ...                   1     2     1               0.0   \n",
       "43          ...                   1     2     1               0.0   \n",
       "44          ...                   1     2     1               0.0   \n",
       "45          ...                   1     2     1               0.0   \n",
       "\n",
       "    max_dose_vaso  input_total_tev  input_4hourly_tev  output_total  \\\n",
       "41            0.0     10794.791767         725.000000        5686.0   \n",
       "42            0.0     11600.277233         805.485467        6056.0   \n",
       "43            0.0     12452.925233         852.648000        6366.0   \n",
       "44            0.0     13180.573233         727.648000        6586.0   \n",
       "45            0.0     13783.221233         602.648000        6836.0   \n",
       "\n",
       "    output_4hourly  cumulated_balance_tev  \n",
       "41           300.0            5108.791767  \n",
       "42           370.0            5544.277233  \n",
       "43           310.0            6086.925233  \n",
       "44           220.0            6594.573233  \n",
       "45           250.0            6947.221233  \n",
       "\n",
       "[5 rows x 57 columns]"
      ]
     },
     "execution_count": 9,
     "metadata": {},
     "output_type": "execute_result"
    }
   ],
   "source": [
    "df_test_orig.head()"
   ]
  },
  {
   "cell_type": "code",
   "execution_count": 10,
   "metadata": {
    "collapsed": true
   },
   "outputs": [],
   "source": [
    "#  Extract out the interventions from the training dataset and find the medians for each dosage - these\n",
    "#  represent the continuous analog of the chosen actions"
   ]
  },
  {
   "cell_type": "code",
   "execution_count": 11,
   "metadata": {},
   "outputs": [
    {
     "data": {
      "text/html": [
       "<div>\n",
       "<style>\n",
       "    .dataframe thead tr:only-child th {\n",
       "        text-align: right;\n",
       "    }\n",
       "\n",
       "    .dataframe thead th {\n",
       "        text-align: left;\n",
       "    }\n",
       "\n",
       "    .dataframe tbody tr th {\n",
       "        vertical-align: top;\n",
       "    }\n",
       "</style>\n",
       "<table border=\"1\" class=\"dataframe\">\n",
       "  <thead>\n",
       "    <tr style=\"text-align: right;\">\n",
       "      <th></th>\n",
       "      <th>max_dose_vaso</th>\n",
       "      <th>input_4hourly_tev</th>\n",
       "    </tr>\n",
       "  </thead>\n",
       "  <tbody>\n",
       "    <tr>\n",
       "      <th>0</th>\n",
       "      <td>0.0</td>\n",
       "      <td>2100.0</td>\n",
       "    </tr>\n",
       "    <tr>\n",
       "      <th>1</th>\n",
       "      <td>0.0</td>\n",
       "      <td>1999.0</td>\n",
       "    </tr>\n",
       "    <tr>\n",
       "      <th>2</th>\n",
       "      <td>0.0</td>\n",
       "      <td>105.0</td>\n",
       "    </tr>\n",
       "    <tr>\n",
       "      <th>3</th>\n",
       "      <td>0.0</td>\n",
       "      <td>60.0</td>\n",
       "    </tr>\n",
       "    <tr>\n",
       "      <th>4</th>\n",
       "      <td>0.0</td>\n",
       "      <td>60.0</td>\n",
       "    </tr>\n",
       "  </tbody>\n",
       "</table>\n",
       "</div>"
      ],
      "text/plain": [
       "   max_dose_vaso  input_4hourly_tev\n",
       "0            0.0             2100.0\n",
       "1            0.0             1999.0\n",
       "2            0.0              105.0\n",
       "3            0.0               60.0\n",
       "4            0.0               60.0"
      ]
     },
     "execution_count": 11,
     "metadata": {},
     "output_type": "execute_result"
    }
   ],
   "source": [
    "interventions = df_train_orig[[\"max_dose_vaso\", \"input_4hourly_tev\"]]\n",
    "interventions.head()"
   ]
  },
  {
   "cell_type": "code",
   "execution_count": 12,
   "metadata": {
    "collapsed": true
   },
   "outputs": [],
   "source": [
    "adjusted_vaso = interventions[\"max_dose_vaso\"][interventions[\"max_dose_vaso\"] >0]\n",
    "adjusted_iv = interventions[\"input_4hourly_tev\"][interventions[\"input_4hourly_tev\"]>0]"
   ]
  },
  {
   "cell_type": "code",
   "execution_count": 13,
   "metadata": {
    "collapsed": true
   },
   "outputs": [],
   "source": [
    "vaso_vals = [0]\n",
    "vaso_vals.extend(adjusted_vaso.quantile([0.125,0.375,0.625,0.875]))\n",
    "iv_vals = [0]\n",
    "iv_vals.extend(adjusted_iv.quantile([0.125,0.375,0.625,0.875]))"
   ]
  },
  {
   "cell_type": "code",
   "execution_count": 14,
   "metadata": {
    "collapsed": true
   },
   "outputs": [],
   "source": [
    "def sliding_mean(data_array, window=1):\n",
    "    new_list = []\n",
    "    for i in range(len(data_array)):\n",
    "        indices = range(max(i - window + 1, 0),\n",
    "                        min(i + window + 1, len(data_array)))\n",
    "        avg = 0\n",
    "        for j in indices:\n",
    "            avg += data_array[j]\n",
    "        avg /= float(len(indices))\n",
    "        new_list.append(avg)     \n",
    "    return np.array(new_list)"
   ]
  },
  {
   "cell_type": "code",
   "execution_count": 15,
   "metadata": {
    "collapsed": true
   },
   "outputs": [],
   "source": [
    "#  Next two cells - can change to load the correct phys/agent actions we want in the plots"
   ]
  },
  {
   "cell_type": "code",
   "execution_count": 16,
   "metadata": {
    "collapsed": true
   },
   "outputs": [],
   "source": [
    "phys_actions = pickle.load(open( \"../continuous/sarsa_phys/phys_actions_test.p\", \"rb\" ))"
   ]
  },
  {
   "cell_type": "code",
   "execution_count": 17,
   "metadata": {
    "collapsed": true
   },
   "outputs": [],
   "source": [
    "deeprl2_actions = pickle.load(open( \"../continuous/dqn_normal/dqn_normal_actions_test.p\", \"rb\" ))"
   ]
  },
  {
   "cell_type": "code",
   "execution_count": 18,
   "metadata": {},
   "outputs": [
    {
     "name": "stderr",
     "output_type": "stream",
     "text": [
      "/usr/local/lib/python2.7/dist-packages/ipykernel_launcher.py:2: SettingWithCopyWarning: \n",
      "A value is trying to be set on a copy of a slice from a DataFrame.\n",
      "Try using .loc[row_indexer,col_indexer] = value instead\n",
      "\n",
      "See the caveats in the documentation: http://pandas.pydata.org/pandas-docs/stable/indexing.html#indexing-view-versus-copy\n",
      "  \n",
      "/usr/local/lib/python2.7/dist-packages/ipykernel_launcher.py:3: SettingWithCopyWarning: \n",
      "A value is trying to be set on a copy of a slice from a DataFrame.\n",
      "Try using .loc[row_indexer,col_indexer] = value instead\n",
      "\n",
      "See the caveats in the documentation: http://pandas.pydata.org/pandas-docs/stable/indexing.html#indexing-view-versus-copy\n",
      "  This is separate from the ipykernel package so we can avoid doing imports until\n"
     ]
    }
   ],
   "source": [
    "# Add in the actions selected to the df_test_orig dataframe. This helps with the stratified analysis afterwards\n",
    "df_test_orig['deeprl2_actions'] = deeprl2_actions\n",
    "df_test_orig['phys_actions'] = phys_actions"
   ]
  },
  {
   "cell_type": "code",
   "execution_count": 19,
   "metadata": {
    "collapsed": true
   },
   "outputs": [],
   "source": [
    "# Perform stratification based on what we're looking for\n",
    "\n",
    "# Low SOFA\n",
    "df_test_orig_low = df_test_orig[df_test_orig['SOFA'] <= 5]\n",
    "\n",
    "# # Middling SOFA\n",
    "df_test_orig_mid = df_test_orig[df_test_orig['SOFA'] > 5]\n",
    "df_test_orig_mid = df_test_orig_mid[df_test_orig_mid['SOFA'] < 15]\n",
    "\n",
    "# # High SOFA\n",
    "df_test_orig_high = df_test_orig[df_test_orig['SOFA'] >= 15]"
   ]
  },
  {
   "cell_type": "code",
   "execution_count": 20,
   "metadata": {
    "collapsed": true
   },
   "outputs": [],
   "source": [
    "# Now re-select the phys_actions, autoencode_actions, and deeprl2_actions based on the statified dataset\n",
    "deeprl2_actions_low = df_test_orig_low['deeprl2_actions'].values\n",
    "phys_actions_low = df_test_orig_low['phys_actions'].values\n",
    "\n",
    "deeprl2_actions_mid = df_test_orig_mid['deeprl2_actions'].values\n",
    "phys_actions_mid = df_test_orig_mid['phys_actions'].values\n",
    "\n",
    "deeprl2_actions_high = df_test_orig_high['deeprl2_actions'].values\n",
    "phys_actions_high = df_test_orig_high['phys_actions'].values"
   ]
  },
  {
   "cell_type": "code",
   "execution_count": 21,
   "metadata": {
    "collapsed": true
   },
   "outputs": [],
   "source": [
    "inv_action_map = {}\n",
    "count = 0\n",
    "for i in range(5):\n",
    "    for j in range(5):\n",
    "        inv_action_map[count] = [i,j]\n",
    "        count += 1"
   ]
  },
  {
   "cell_type": "code",
   "execution_count": 22,
   "metadata": {
    "collapsed": true
   },
   "outputs": [],
   "source": [
    "phys_actions_low_tuple = [None for i in range(len(phys_actions_low))]\n",
    "deeprl2_actions_low_tuple = [None for i in range(len(phys_actions_low))]\n",
    "\n",
    "phys_actions_mid_tuple = [None for i in range(len(phys_actions_mid))]\n",
    "deeprl2_actions_mid_tuple = [None for i in range(len(phys_actions_mid))]\n",
    "\n",
    "phys_actions_high_tuple = [None for i in range(len(phys_actions_high))]\n",
    "deeprl2_actions_high_tuple = [None for i in range(len(phys_actions_high))]\n",
    "\n",
    "for i in range(len(phys_actions_low)):\n",
    "    phys_actions_low_tuple[i] = inv_action_map[phys_actions_low[i]]\n",
    "    deeprl2_actions_low_tuple[i] = inv_action_map[deeprl2_actions_low[i]]\n",
    "\n",
    "for i in range(len(phys_actions_mid)):\n",
    "    phys_actions_mid_tuple[i] = inv_action_map[phys_actions_mid[i]]\n",
    "    deeprl2_actions_mid_tuple[i] = inv_action_map[deeprl2_actions_mid[i]]\n",
    "                                                  \n",
    "for i in range(len(phys_actions_high)):\n",
    "    phys_actions_high_tuple[i] = inv_action_map[phys_actions_high[i]]\n",
    "    deeprl2_actions_high_tuple[i] = inv_action_map[deeprl2_actions_high[i]]                                                  "
   ]
  },
  {
   "cell_type": "code",
   "execution_count": 23,
   "metadata": {
    "collapsed": true
   },
   "outputs": [],
   "source": [
    "phys_actions_low_tuple = np.array(phys_actions_low_tuple)\n",
    "deeprl2_actions_low_tuple = np.array(deeprl2_actions_low_tuple)\n",
    "\n",
    "phys_actions_mid_tuple = np.array(phys_actions_mid_tuple)\n",
    "deeprl2_actions_mid_tuple = np.array(deeprl2_actions_mid_tuple)\n",
    "\n",
    "phys_actions_high_tuple = np.array(phys_actions_high_tuple)\n",
    "deeprl2_actions_high_tuple = np.array(deeprl2_actions_high_tuple)"
   ]
  },
  {
   "cell_type": "code",
   "execution_count": 24,
   "metadata": {
    "collapsed": true
   },
   "outputs": [],
   "source": [
    "phys_actions_low_iv = phys_actions_low_tuple[:,0]\n",
    "phys_actions_low_vaso = phys_actions_low_tuple[:,1]\n",
    "hist_ph1, x_edges, y_edges = np.histogram2d(phys_actions_low_iv, phys_actions_low_vaso, bins=5)\n",
    "\n",
    "phys_actions_mid_iv = phys_actions_mid_tuple[:,0]\n",
    "phys_actions_mid_vaso = phys_actions_mid_tuple[:,1]\n",
    "hist_ph2, _, _ = np.histogram2d(phys_actions_mid_iv, phys_actions_mid_vaso, bins=5)\n",
    "\n",
    "phys_actions_high_iv = phys_actions_high_tuple[:,0]\n",
    "phys_actions_high_vaso = phys_actions_high_tuple[:,1]\n",
    "hist_ph3, _, _ = np.histogram2d(phys_actions_high_iv, phys_actions_high_vaso, bins=5)"
   ]
  },
  {
   "cell_type": "code",
   "execution_count": 25,
   "metadata": {
    "collapsed": true
   },
   "outputs": [],
   "source": [
    "deeprl2_actions_low_iv = deeprl2_actions_low_tuple[:,0]\n",
    "deeprl2_actions_low_vaso = deeprl2_actions_low_tuple[:,1]\n",
    "hist_drl1, _, _ = np.histogram2d(deeprl2_actions_low_iv, deeprl2_actions_low_vaso, bins=5)\n",
    "\n",
    "deeprl2_actions_mid_iv = deeprl2_actions_mid_tuple[:,0]\n",
    "deeprl2_actions_mid_vaso = deeprl2_actions_mid_tuple[:,1]\n",
    "hist_drl2, _, _ = np.histogram2d(deeprl2_actions_mid_iv, deeprl2_actions_mid_vaso, bins=5)\n",
    "\n",
    "deeprl2_actions_high_iv = deeprl2_actions_high_tuple[:,0]\n",
    "deeprl2_actions_high_vaso = deeprl2_actions_high_tuple[:,1]\n",
    "hist_drl3, _, _ = np.histogram2d(deeprl2_actions_high_iv, deeprl2_actions_high_vaso, bins=5)"
   ]
  },
  {
   "cell_type": "code",
   "execution_count": 26,
   "metadata": {
    "collapsed": true
   },
   "outputs": [],
   "source": [
    "x_edges = np.arange(-0.5,5)\n",
    "y_edges = np.arange(-0.5,5)"
   ]
  },
  {
   "cell_type": "code",
   "execution_count": 27,
   "metadata": {},
   "outputs": [
    {
     "data": {
      "image/png": "[encoded data removed]",
      "text/plain": [
       "<matplotlib.figure.Figure at 0x7f01a8c5ed50>"
      ]
     },
     "metadata": {},
     "output_type": "display_data"
    }
   ],
   "source": [
    "f, (ax1, ax2, ax3) = plt.subplots(1, 3, figsize=(16,4))\n",
    "ax1.imshow(np.flipud(hist_drl1), cmap=\"Blues\",extent=[x_edges[0], x_edges[-1],  y_edges[0],y_edges[-1]])\n",
    "ax2.imshow(np.flipud(hist_drl2), cmap=\"OrRd\", extent=[x_edges[0], x_edges[-1],  y_edges[0],y_edges[-1]])\n",
    "ax3.imshow(np.flipud(hist_drl3), cmap=\"Greens\", extent=[x_edges[0], x_edges[-1],  y_edges[0],y_edges[-1]])\n",
    "\n",
    "\n",
    "# ax1.grid(color='b', linestyle='-', linewidth=1)\n",
    "# ax2.grid(color='r', linestyle='-', linewidth=1)\n",
    "# ax3.grid(color='g', linestyle='-', linewidth=1)\n",
    "\n",
    "# Major ticks\n",
    "ax1.set_xticks(np.arange(0, 5, 1));\n",
    "ax1.set_yticks(np.arange(0, 5, 1));\n",
    "ax2.set_xticks(np.arange(0, 5, 1));\n",
    "ax2.set_yticks(np.arange(0, 5, 1));\n",
    "ax3.set_xticks(np.arange(0, 5, 1));\n",
    "ax3.set_yticks(np.arange(0, 5, 1));\n",
    "\n",
    "\n",
    "# Labels for major ticks\n",
    "ax1.set_xticklabels(np.arange(0, 5, 1));\n",
    "ax1.set_yticklabels(np.arange(0, 5, 1));\n",
    "ax2.set_xticklabels(np.arange(0, 5, 1));\n",
    "ax2.set_yticklabels(np.arange(0, 5, 1));\n",
    "ax3.set_xticklabels(np.arange(0, 5, 1));\n",
    "ax3.set_yticklabels(np.arange(0, 5, 1));\n",
    "\n",
    "\n",
    "# Minor ticks\n",
    "ax1.set_xticks(np.arange(-.5, 5, 1), minor=True);\n",
    "ax1.set_yticks(np.arange(-.5, 5, 1), minor=True);\n",
    "ax2.set_xticks(np.arange(-.5, 5, 1), minor=True);\n",
    "ax2.set_yticks(np.arange(-.5, 5, 1), minor=True);\n",
    "ax3.set_xticks(np.arange(-.5, 5, 1), minor=True);\n",
    "ax3.set_yticks(np.arange(-.5, 5, 1), minor=True);\n",
    "\n",
    "\n",
    "# Gridlines based on minor ticks\n",
    "ax1.grid(which='minor', color='b', linestyle='-', linewidth=1)\n",
    "ax2.grid(which='minor', color='r', linestyle='-', linewidth=1)\n",
    "ax3.grid(which='minor', color='g', linestyle='-', linewidth=1)\n",
    "\n",
    "\n",
    "im1 = ax1.pcolormesh(x_edges, y_edges, hist_drl1, cmap='Blues')\n",
    "f.colorbar(im1, ax=ax1, label = \"Action counts\")\n",
    "\n",
    "im2 = ax2.pcolormesh(x_edges, y_edges, hist_drl2, cmap='Greens')\n",
    "f.colorbar(im2, ax=ax2, label = \"Action counts\")\n",
    "\n",
    "im3 = ax3.pcolormesh(x_edges, y_edges, hist_drl3, cmap='OrRd')\n",
    "f.colorbar(im3, ax=ax3, label = \"Action counts\")\n",
    "\n",
    "\n",
    "ax1.set_ylabel('IV fluid dose')\n",
    "ax2.set_ylabel('IV fluid dose')\n",
    "ax3.set_ylabel('IV fluid dose')\n",
    "ax1.set_xlabel('Vasopressor dose')\n",
    "ax2.set_xlabel('Vasopressor dose')\n",
    "ax3.set_xlabel('Vasopressor dose')\n",
    "\n",
    "\n",
    "ax1.set_title(\"Q-Network Low SOFA policy\")\n",
    "ax2.set_title(\"Q-Network Mid SOFA policy\")\n",
    "ax3.set_title(\"Q-Network High SOFA policy\")\n",
    "plt.tight_layout()"
   ]
  },
  {
   "cell_type": "code",
   "execution_count": 28,
   "metadata": {
    "scrolled": true
   },
   "outputs": [
    {
     "data": {
      "image/png": "[encoded data removed]",
      "text/plain": [
       "<matplotlib.figure.Figure at 0x7f01a8c38650>"
      ]
     },
     "metadata": {},
     "output_type": "display_data"
    }
   ],
   "source": [
    "f, (ax1, ax2, ax3) = plt.subplots(1, 3, figsize=(16,4))\n",
    "ax1.imshow(np.flipud(hist_ph1), cmap=\"Blues\",extent=[x_edges[0], x_edges[-1],  y_edges[0],y_edges[-1]])\n",
    "ax2.imshow(np.flipud(hist_ph2), cmap=\"OrRd\", extent=[x_edges[0], x_edges[-1],  y_edges[0],y_edges[-1]])\n",
    "ax3.imshow(np.flipud(hist_ph3), cmap=\"Greens\", extent=[x_edges[0], x_edges[-1],  y_edges[0],y_edges[-1]])\n",
    "\n",
    "\n",
    "# ax1.grid(color='b', linestyle='-', linewidth=1)\n",
    "# ax2.grid(color='r', linestyle='-', linewidth=1)\n",
    "# ax3.grid(color='g', linestyle='-', linewidth=1)\n",
    "\n",
    "# Major ticks\n",
    "ax1.set_xticks(np.arange(0, 5, 1));\n",
    "ax1.set_yticks(np.arange(0, 5, 1));\n",
    "ax2.set_xticks(np.arange(0, 5, 1));\n",
    "ax2.set_yticks(np.arange(0, 5, 1));\n",
    "ax3.set_xticks(np.arange(0, 5, 1));\n",
    "ax3.set_yticks(np.arange(0, 5, 1));\n",
    "\n",
    "\n",
    "# Labels for major ticks\n",
    "ax1.set_xticklabels(np.arange(0, 5, 1));\n",
    "ax1.set_yticklabels(np.arange(0, 5, 1));\n",
    "ax2.set_xticklabels(np.arange(0, 5, 1));\n",
    "ax2.set_yticklabels(np.arange(0, 5, 1));\n",
    "ax3.set_xticklabels(np.arange(0, 5, 1));\n",
    "ax3.set_yticklabels(np.arange(0, 5, 1));\n",
    "\n",
    "\n",
    "# Minor ticks\n",
    "ax1.set_xticks(np.arange(-.5, 5, 1), minor=True);\n",
    "ax1.set_yticks(np.arange(-.5, 5, 1), minor=True);\n",
    "ax2.set_xticks(np.arange(-.5, 5, 1), minor=True);\n",
    "ax2.set_yticks(np.arange(-.5, 5, 1), minor=True);\n",
    "ax3.set_xticks(np.arange(-.5, 5, 1), minor=True);\n",
    "ax3.set_yticks(np.arange(-.5, 5, 1), minor=True);\n",
    "\n",
    "\n",
    "# Gridlines based on minor ticks\n",
    "ax1.grid(which='minor', color='b', linestyle='-', linewidth=1)\n",
    "ax2.grid(which='minor', color='r', linestyle='-', linewidth=1)\n",
    "ax3.grid(which='minor', color='g', linestyle='-', linewidth=1)\n",
    "\n",
    "\n",
    "im1 = ax1.pcolormesh(x_edges, y_edges, hist_ph1, cmap='Blues')\n",
    "f.colorbar(im1, ax=ax1, label = \"Action counts\")\n",
    "\n",
    "im2 = ax2.pcolormesh(x_edges, y_edges, hist_ph2, cmap='Greens')\n",
    "f.colorbar(im2, ax=ax2, label = \"Action counts\")\n",
    "\n",
    "im3 = ax3.pcolormesh(x_edges, y_edges, hist_ph3, cmap='OrRd')\n",
    "f.colorbar(im3, ax=ax3, label = \"Action counts\")\n",
    "\n",
    "\n",
    "ax1.set_ylabel('IV fluid dose')\n",
    "ax2.set_ylabel('IV fluid dose')\n",
    "ax3.set_ylabel('IV fluid dose')\n",
    "ax1.set_xlabel('Vasopressor dose')\n",
    "ax2.set_xlabel('Vasopressor dose')\n",
    "ax3.set_xlabel('Vasopressor dose')\n",
    "\n",
    "\n",
    "ax1.set_title(\"Physician Low SOFA policy\")\n",
    "ax2.set_title(\"Physician Mid SOFA policy\")\n",
    "ax3.set_title(\"Physician High SOFA policy\")\n",
    "plt.tight_layout()"
   ]
  },
  {
   "cell_type": "code",
   "execution_count": 29,
   "metadata": {
    "collapsed": true
   },
   "outputs": [],
   "source": [
    "def make_df_diff(op_actions, df_in):\n",
    "    op_vaso_med = []\n",
    "    op_iv_med = []\n",
    "    for action in op_actions:\n",
    "        iv,vaso = inv_action_map[action]\n",
    "        op_vaso_med.append(vaso_vals[vaso])\n",
    "        op_iv_med.append(iv_vals[iv])\n",
    "    iv_diff = np.array(op_iv_med) - np.array(df_in['input_4hourly_tev'])\n",
    "    vaso_diff = np.array(op_vaso_med) - np.array(df_in['max_dose_vaso'])\n",
    "    df_diff = pd.DataFrame()\n",
    "    df_diff['mort'] = np.array(df_in['died_in_hosp'])\n",
    "    df_diff['iv_diff'] = iv_diff\n",
    "    df_diff['vaso_diff'] = vaso_diff\n",
    "    return df_diff"
   ]
  },
  {
   "cell_type": "code",
   "execution_count": 30,
   "metadata": {
    "collapsed": true
   },
   "outputs": [],
   "source": [
    "from scipy.stats import sem\n",
    "def make_iv_plot_data(df_diff):\n",
    "    bin_medians_iv = []\n",
    "    mort_iv = []\n",
    "    mort_std_iv= []\n",
    "    i = -800\n",
    "    while i <= 900:\n",
    "        count =df_diff.loc[(df_diff['iv_diff']>i-50) & (df_diff['iv_diff']<i+50)]\n",
    "        try:\n",
    "            res = sum(count['mort'])/float(len(count))\n",
    "            if len(count) >=2:\n",
    "                bin_medians_iv.append(i)\n",
    "                mort_iv.append(res)\n",
    "                mort_std_iv.append(sem(count['mort']))\n",
    "        except ZeroDivisionError:\n",
    "            pass\n",
    "        i += 100\n",
    "    return bin_medians_iv, mort_iv, mort_std_iv"
   ]
  },
  {
   "cell_type": "code",
   "execution_count": 31,
   "metadata": {
    "collapsed": true
   },
   "outputs": [],
   "source": [
    "from scipy.stats import sem\n",
    "def make_vaso_plot_data(df_diff):\n",
    "    bin_medians_vaso = []\n",
    "    mort_vaso= []\n",
    "    mort_std_vaso= []\n",
    "    i = -0.6\n",
    "    while i <= 0.6:\n",
    "        count =df_diff.loc[(df_diff['vaso_diff']>i-0.05) & (df_diff['vaso_diff']<i+0.05)]\n",
    "        try:\n",
    "            res = sum(count['mort'])/float(len(count))\n",
    "            if len(count) >=2:\n",
    "                bin_medians_vaso.append(i)\n",
    "                mort_vaso.append(res)\n",
    "                mort_std_vaso.append(sem(count['mort']))\n",
    "        except ZeroDivisionError:\n",
    "            pass\n",
    "        i += 0.1\n",
    "    return bin_medians_vaso, mort_vaso, mort_std_vaso"
   ]
  },
  {
   "cell_type": "code",
   "execution_count": 32,
   "metadata": {
    "collapsed": true
   },
   "outputs": [],
   "source": [
    "df_diff_low = make_df_diff(deeprl2_actions_low, df_test_orig_low)\n",
    "df_diff_mid = make_df_diff(deeprl2_actions_mid, df_test_orig_mid)\n",
    "df_diff_high = make_df_diff(deeprl2_actions_high, df_test_orig_high)"
   ]
  },
  {
   "cell_type": "code",
   "execution_count": 33,
   "metadata": {
    "collapsed": true
   },
   "outputs": [],
   "source": [
    "bin_med_iv_deep_low, mort_iv_deep_low, mort_std_iv_deep_low = make_iv_plot_data(df_diff_low)\n",
    "bin_med_vaso_deep_low, mort_vaso_deep_low, mort_std_vaso_deep_low = make_vaso_plot_data(df_diff_low)\n",
    "\n",
    "bin_med_iv_deep_mid, mort_iv_deep_mid, mort_std_iv_deep_mid = make_iv_plot_data(df_diff_mid)\n",
    "bin_med_vaso_deep_mid, mort_vaso_deep_mid, mort_std_vaso_deep_mid = make_vaso_plot_data(df_diff_mid)\n",
    "\n",
    "bin_med_iv_deep_high, mort_iv_deep_high, mort_std_iv_deep_high = make_iv_plot_data(df_diff_high)\n",
    "bin_med_vaso_deep_high, mort_vaso_deep_high, mort_std_vaso_deep_high = make_vaso_plot_data(df_diff_high)"
   ]
  },
  {
   "cell_type": "code",
   "execution_count": 34,
   "metadata": {
    "collapsed": true
   },
   "outputs": [],
   "source": [
    "def diff_plot(med_vaso, mort_vaso, std_vaso, med_iv, mort_iv, std_iv, col, title):\n",
    "    f, ((ax1, ax2)) = plt.subplots(1, 2, sharex='col', sharey='row', figsize = (10,4))\n",
    "    step = 2\n",
    "    if col == 'r':\n",
    "        fillcol = 'lightsalmon'\n",
    "    elif col == 'g':\n",
    "        fillcol = 'palegreen'\n",
    "        step = 1\n",
    "    elif col == 'b':\n",
    "        fillcol = 'lightblue'\n",
    "    ax1.plot(med_vaso, sliding_mean(mort_vaso), color=col)\n",
    "    ax1.fill_between(med_vaso, sliding_mean(mort_vaso) - 1*std_vaso,  \n",
    "                     sliding_mean(mort_vaso) + 1*std_vaso, color=fillcol)\n",
    "    t = title + \": Vasopressors\"\n",
    "    ax1.set_title(t)\n",
    "    x_r = [i/10.0 for i in range(-6,8,2)]\n",
    "\n",
    "    y_r = [i/20.0 for i in range(0,20,step)]\n",
    "    ax1.set_xticks(x_r)\n",
    "    ax1.set_yticks(y_r)\n",
    "    ax1.grid()\n",
    "\n",
    "    ax2.plot(med_iv, sliding_mean(mort_iv), color=col)\n",
    "    ax2.fill_between(med_iv, sliding_mean(mort_iv) - 1*std_iv,  \n",
    "                     sliding_mean(mort_iv) + 1*std_iv, color=fillcol)\n",
    "    t = title + \": IV fluids\"\n",
    "    ax2.set_title(t)\n",
    "    x_iv = [i for i in range(-800,900,400)]\n",
    "    ax2.set_xticks(x_iv)\n",
    "    ax2.grid()\n",
    "\n",
    "#     ax3.plot(bin_med_vaso_auto, sliding_mean(mort_vaso_auto), color='g')\n",
    "#     ax3.fill_between(bin_med_vaso_auto, sliding_mean(mort_vaso_auto) - 1*mort_std_vaso_auto,  \n",
    "#                      sliding_mean(mort_vaso_auto) + 1*mort_std_vaso_auto, color='palegreen')\n",
    "#     y_auto = [i/20.0 for i in range(0,21,1)]\n",
    "#     ax3.set_yticks(y_auto)\n",
    "#     ax3.set_title('Q-Network (Shaped Rewards) - Vasopressors')\n",
    "#     ax3.grid()\n",
    "\n",
    "#     ax4.plot(bin_med_iv_auto, sliding_mean(mort_iv_auto), color='g')\n",
    "#     ax4.fill_between(bin_med_iv_auto, sliding_mean(mort_iv_auto) - 1*mort_std_iv_auto,  \n",
    "#                      sliding_mean(mort_iv_auto) + 1*mort_std_iv_auto, color='palegreen')\n",
    "#     ax4.set_title('Q-Network (Shaped Rewards) - IV Fluids')\n",
    "#     ax4.grid()\n",
    "#     plt.tight_layout()\n",
    "    f.text(0.3, -0.03, 'Difference between optimal and physician vasopressor dose', ha='center', fontsize=10)\n",
    "    f.text(0.725, -0.03, 'Difference between optimal and physician IV dose', ha='center', fontsize=10)\n",
    "    f.text(0.05, 0.5, 'Observed Mortality', va='center', rotation='vertical', fontsize = 10)\n"
   ]
  },
  {
   "cell_type": "code",
   "execution_count": 35,
   "metadata": {},
   "outputs": [
    {
     "data": {
      "image/png": "[encoded data removed]",
      "text/plain": [
       "<matplotlib.figure.Figure at 0x7f01abe87ad0>"
      ]
     },
     "metadata": {},
     "output_type": "display_data"
    }
   ],
   "source": [
    "diff_plot(bin_med_vaso_deep_low, mort_vaso_deep_low, mort_std_vaso_deep_low, \n",
    "          bin_med_iv_deep_low, mort_iv_deep_low, mort_std_iv_deep_low, 'b', 'Low SOFA')"
   ]
  },
  {
   "cell_type": "code",
   "execution_count": 36,
   "metadata": {
    "scrolled": true
   },
   "outputs": [
    {
     "data": {
      "image/png": "[encoded data removed]",
      "text/plain": [
       "<matplotlib.figure.Figure at 0x7f01418ca9d0>"
      ]
     },
     "metadata": {},
     "output_type": "display_data"
    }
   ],
   "source": [
    "diff_plot(bin_med_vaso_deep_mid, mort_vaso_deep_mid, mort_std_vaso_deep_mid, \n",
    "          bin_med_iv_deep_mid, mort_iv_deep_mid, mort_std_iv_deep_mid, 'g', 'Medium SOFA')"
   ]
  },
  {
   "cell_type": "code",
   "execution_count": 37,
   "metadata": {
    "scrolled": true
   },
   "outputs": [
    {
     "data": {
      "image/png": "[encoded data removed]",
      "text/plain": [
       "<matplotlib.figure.Figure at 0x7f01a90b9550>"
      ]
     },
     "metadata": {},
     "output_type": "display_data"
    }
   ],
   "source": [
    "diff_plot(bin_med_vaso_deep_high, mort_vaso_deep_high, mort_std_vaso_deep_high, \n",
    "          bin_med_iv_deep_high, mort_iv_deep_high, mort_std_iv_deep_high, 'r', 'High SOFA')"
   ]
  },
  {
   "cell_type": "code",
   "execution_count": null,
   "metadata": {
    "collapsed": true
   },
   "outputs": [],
   "source": []
  }
 ],
 "metadata": {
  "kernelspec": {
   "display_name": "Python 2",
   "language": "python",
   "name": "python2"
  },
  "language_info": {
   "codemirror_mode": {
    "name": "ipython",
    "version": 2
   },
   "file_extension": ".py",
   "mimetype": "text/x-python",
   "name": "python",
   "nbconvert_exporter": "python",
   "pygments_lexer": "ipython2",
   "version": "2.7.6"
  }
 },
 "nbformat": 4,
 "nbformat_minor": 2
}
