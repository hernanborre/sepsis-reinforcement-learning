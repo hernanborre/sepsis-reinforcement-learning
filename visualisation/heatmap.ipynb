{
 "cells": [
  {
   "cell_type": "code",
   "execution_count": 1,
   "metadata": {
    "collapsed": true,
    "deletable": true,
    "editable": true
   },
   "outputs": [],
   "source": [
    "import pandas as pd\n",
    "import numpy as np\n",
    "import matplotlib.pyplot as plt\n",
    "\n",
    "%matplotlib inline"
   ]
  },
  {
   "cell_type": "code",
   "execution_count": 2,
   "metadata": {
    "collapsed": true,
    "deletable": true,
    "editable": true
   },
   "outputs": [],
   "source": [
    "df = pd.read_csv('../data/rl_train_data_final_auto.csv')"
   ]
  },
  {
   "cell_type": "code",
   "execution_count": 3,
   "metadata": {
    "collapsed": false,
    "deletable": true,
    "editable": true
   },
   "outputs": [
    {
     "data": {
      "text/html": [
       "<div>\n",
       "<table border=\"1\" class=\"dataframe\">\n",
       "  <thead>\n",
       "    <tr style=\"text-align: right;\">\n",
       "      <th></th>\n",
       "      <th>Unnamed: 0</th>\n",
       "      <th>0</th>\n",
       "      <th>1</th>\n",
       "      <th>2</th>\n",
       "      <th>3</th>\n",
       "      <th>4</th>\n",
       "      <th>5</th>\n",
       "      <th>6</th>\n",
       "      <th>7</th>\n",
       "      <th>8</th>\n",
       "      <th>...</th>\n",
       "      <th>194</th>\n",
       "      <th>195</th>\n",
       "      <th>196</th>\n",
       "      <th>197</th>\n",
       "      <th>198</th>\n",
       "      <th>199</th>\n",
       "      <th>vaso_input</th>\n",
       "      <th>iv_input</th>\n",
       "      <th>reward</th>\n",
       "      <th>icustayid</th>\n",
       "    </tr>\n",
       "  </thead>\n",
       "  <tbody>\n",
       "    <tr>\n",
       "      <th>0</th>\n",
       "      <td>0</td>\n",
       "      <td>0.030952</td>\n",
       "      <td>0.066561</td>\n",
       "      <td>0.074645</td>\n",
       "      <td>0.057461</td>\n",
       "      <td>0.025694</td>\n",
       "      <td>0.018508</td>\n",
       "      <td>0.058811</td>\n",
       "      <td>0.055139</td>\n",
       "      <td>0.035398</td>\n",
       "      <td>...</td>\n",
       "      <td>0.026454</td>\n",
       "      <td>0.064301</td>\n",
       "      <td>0.026370</td>\n",
       "      <td>0.055847</td>\n",
       "      <td>0.052902</td>\n",
       "      <td>0.030440</td>\n",
       "      <td>0.0</td>\n",
       "      <td>4.0</td>\n",
       "      <td>0</td>\n",
       "      <td>3</td>\n",
       "    </tr>\n",
       "    <tr>\n",
       "      <th>1</th>\n",
       "      <td>1</td>\n",
       "      <td>0.031116</td>\n",
       "      <td>0.072229</td>\n",
       "      <td>0.066647</td>\n",
       "      <td>0.050890</td>\n",
       "      <td>0.038605</td>\n",
       "      <td>0.022418</td>\n",
       "      <td>0.064106</td>\n",
       "      <td>0.051121</td>\n",
       "      <td>0.035535</td>\n",
       "      <td>...</td>\n",
       "      <td>0.029728</td>\n",
       "      <td>0.060433</td>\n",
       "      <td>0.027990</td>\n",
       "      <td>0.066878</td>\n",
       "      <td>0.064350</td>\n",
       "      <td>0.048884</td>\n",
       "      <td>0.0</td>\n",
       "      <td>4.0</td>\n",
       "      <td>0</td>\n",
       "      <td>3</td>\n",
       "    </tr>\n",
       "    <tr>\n",
       "      <th>2</th>\n",
       "      <td>2</td>\n",
       "      <td>0.028333</td>\n",
       "      <td>0.054361</td>\n",
       "      <td>0.079503</td>\n",
       "      <td>0.056118</td>\n",
       "      <td>0.027614</td>\n",
       "      <td>0.021335</td>\n",
       "      <td>0.082840</td>\n",
       "      <td>0.061822</td>\n",
       "      <td>0.028901</td>\n",
       "      <td>...</td>\n",
       "      <td>0.038930</td>\n",
       "      <td>0.064668</td>\n",
       "      <td>0.026851</td>\n",
       "      <td>0.062974</td>\n",
       "      <td>0.065182</td>\n",
       "      <td>0.071455</td>\n",
       "      <td>0.0</td>\n",
       "      <td>2.0</td>\n",
       "      <td>0</td>\n",
       "      <td>3</td>\n",
       "    </tr>\n",
       "    <tr>\n",
       "      <th>3</th>\n",
       "      <td>3</td>\n",
       "      <td>0.033604</td>\n",
       "      <td>0.061950</td>\n",
       "      <td>0.078464</td>\n",
       "      <td>0.059646</td>\n",
       "      <td>0.030114</td>\n",
       "      <td>0.022200</td>\n",
       "      <td>0.075564</td>\n",
       "      <td>0.056616</td>\n",
       "      <td>0.035092</td>\n",
       "      <td>...</td>\n",
       "      <td>0.046743</td>\n",
       "      <td>0.059576</td>\n",
       "      <td>0.028979</td>\n",
       "      <td>0.064714</td>\n",
       "      <td>0.067708</td>\n",
       "      <td>0.069163</td>\n",
       "      <td>0.0</td>\n",
       "      <td>2.0</td>\n",
       "      <td>0</td>\n",
       "      <td>3</td>\n",
       "    </tr>\n",
       "    <tr>\n",
       "      <th>4</th>\n",
       "      <td>4</td>\n",
       "      <td>0.041468</td>\n",
       "      <td>0.083649</td>\n",
       "      <td>0.086171</td>\n",
       "      <td>0.074791</td>\n",
       "      <td>0.036465</td>\n",
       "      <td>0.036529</td>\n",
       "      <td>0.062812</td>\n",
       "      <td>0.060061</td>\n",
       "      <td>0.041216</td>\n",
       "      <td>...</td>\n",
       "      <td>0.048424</td>\n",
       "      <td>0.044860</td>\n",
       "      <td>0.037925</td>\n",
       "      <td>0.059954</td>\n",
       "      <td>0.072518</td>\n",
       "      <td>0.060507</td>\n",
       "      <td>0.0</td>\n",
       "      <td>2.0</td>\n",
       "      <td>0</td>\n",
       "      <td>3</td>\n",
       "    </tr>\n",
       "  </tbody>\n",
       "</table>\n",
       "<p>5 rows × 205 columns</p>\n",
       "</div>"
      ],
      "text/plain": [
       "   Unnamed: 0         0         1         2         3         4         5  \\\n",
       "0           0  0.030952  0.066561  0.074645  0.057461  0.025694  0.018508   \n",
       "1           1  0.031116  0.072229  0.066647  0.050890  0.038605  0.022418   \n",
       "2           2  0.028333  0.054361  0.079503  0.056118  0.027614  0.021335   \n",
       "3           3  0.033604  0.061950  0.078464  0.059646  0.030114  0.022200   \n",
       "4           4  0.041468  0.083649  0.086171  0.074791  0.036465  0.036529   \n",
       "\n",
       "          6         7         8    ...           194       195       196  \\\n",
       "0  0.058811  0.055139  0.035398    ...      0.026454  0.064301  0.026370   \n",
       "1  0.064106  0.051121  0.035535    ...      0.029728  0.060433  0.027990   \n",
       "2  0.082840  0.061822  0.028901    ...      0.038930  0.064668  0.026851   \n",
       "3  0.075564  0.056616  0.035092    ...      0.046743  0.059576  0.028979   \n",
       "4  0.062812  0.060061  0.041216    ...      0.048424  0.044860  0.037925   \n",
       "\n",
       "        197       198       199  vaso_input  iv_input  reward  icustayid  \n",
       "0  0.055847  0.052902  0.030440         0.0       4.0       0          3  \n",
       "1  0.066878  0.064350  0.048884         0.0       4.0       0          3  \n",
       "2  0.062974  0.065182  0.071455         0.0       2.0       0          3  \n",
       "3  0.064714  0.067708  0.069163         0.0       2.0       0          3  \n",
       "4  0.059954  0.072518  0.060507         0.0       2.0       0          3  \n",
       "\n",
       "[5 rows x 205 columns]"
      ]
     },
     "execution_count": 3,
     "metadata": {},
     "output_type": "execute_result"
    }
   ],
   "source": [
    "df.head()"
   ]
  },
  {
   "cell_type": "code",
   "execution_count": 7,
   "metadata": {
    "collapsed": false,
    "deletable": true,
    "editable": true
   },
   "outputs": [
    {
     "data": {
      "text/html": [
       "<div>\n",
       "<table border=\"1\" class=\"dataframe\">\n",
       "  <thead>\n",
       "    <tr style=\"text-align: right;\">\n",
       "      <th></th>\n",
       "      <th>Unnamed: 0</th>\n",
       "      <th>Unnamed: 0.1</th>\n",
       "      <th>Unnamed: 0.1.1</th>\n",
       "      <th>bloc</th>\n",
       "      <th>icustayid</th>\n",
       "      <th>charttime</th>\n",
       "      <th>gender</th>\n",
       "      <th>age</th>\n",
       "      <th>elixhauser</th>\n",
       "      <th>re_admission</th>\n",
       "      <th>...</th>\n",
       "      <th>median_dose_vaso</th>\n",
       "      <th>max_dose_vaso</th>\n",
       "      <th>input_total_tev</th>\n",
       "      <th>input_4hourly_tev</th>\n",
       "      <th>output_total</th>\n",
       "      <th>output_4hourly</th>\n",
       "      <th>cumulated_balance_tev</th>\n",
       "      <th>vaso_input</th>\n",
       "      <th>iv_input</th>\n",
       "      <th>reward</th>\n",
       "    </tr>\n",
       "  </thead>\n",
       "  <tbody>\n",
       "    <tr>\n",
       "      <th>0</th>\n",
       "      <td>0</td>\n",
       "      <td>0</td>\n",
       "      <td>0</td>\n",
       "      <td>1</td>\n",
       "      <td>3</td>\n",
       "      <td>7245052800</td>\n",
       "      <td>0.0</td>\n",
       "      <td>0.412568</td>\n",
       "      <td>0.0</td>\n",
       "      <td>0.0</td>\n",
       "      <td>...</td>\n",
       "      <td>0.0</td>\n",
       "      <td>0.0</td>\n",
       "      <td>0.797351</td>\n",
       "      <td>0.939195</td>\n",
       "      <td>0.589916</td>\n",
       "      <td>0.750908</td>\n",
       "      <td>0.554500</td>\n",
       "      <td>0.0</td>\n",
       "      <td>4.0</td>\n",
       "      <td>0</td>\n",
       "    </tr>\n",
       "    <tr>\n",
       "      <th>1</th>\n",
       "      <td>1</td>\n",
       "      <td>1</td>\n",
       "      <td>1</td>\n",
       "      <td>2</td>\n",
       "      <td>3</td>\n",
       "      <td>7245067200</td>\n",
       "      <td>0.0</td>\n",
       "      <td>0.412568</td>\n",
       "      <td>0.0</td>\n",
       "      <td>0.0</td>\n",
       "      <td>...</td>\n",
       "      <td>0.0</td>\n",
       "      <td>0.0</td>\n",
       "      <td>0.831780</td>\n",
       "      <td>0.934543</td>\n",
       "      <td>0.674384</td>\n",
       "      <td>0.819589</td>\n",
       "      <td>0.580033</td>\n",
       "      <td>0.0</td>\n",
       "      <td>4.0</td>\n",
       "      <td>0</td>\n",
       "    </tr>\n",
       "    <tr>\n",
       "      <th>2</th>\n",
       "      <td>2</td>\n",
       "      <td>2</td>\n",
       "      <td>2</td>\n",
       "      <td>3</td>\n",
       "      <td>3</td>\n",
       "      <td>7245081600</td>\n",
       "      <td>0.0</td>\n",
       "      <td>0.412568</td>\n",
       "      <td>0.0</td>\n",
       "      <td>0.0</td>\n",
       "      <td>...</td>\n",
       "      <td>0.0</td>\n",
       "      <td>0.0</td>\n",
       "      <td>0.833222</td>\n",
       "      <td>0.656575</td>\n",
       "      <td>0.765423</td>\n",
       "      <td>0.939329</td>\n",
       "      <td>0.555033</td>\n",
       "      <td>0.0</td>\n",
       "      <td>2.0</td>\n",
       "      <td>0</td>\n",
       "    </tr>\n",
       "    <tr>\n",
       "      <th>3</th>\n",
       "      <td>3</td>\n",
       "      <td>3</td>\n",
       "      <td>3</td>\n",
       "      <td>4</td>\n",
       "      <td>3</td>\n",
       "      <td>7245096000</td>\n",
       "      <td>0.0</td>\n",
       "      <td>0.412568</td>\n",
       "      <td>0.0</td>\n",
       "      <td>0.0</td>\n",
       "      <td>...</td>\n",
       "      <td>0.0</td>\n",
       "      <td>0.0</td>\n",
       "      <td>0.834033</td>\n",
       "      <td>0.603831</td>\n",
       "      <td>0.783597</td>\n",
       "      <td>0.847073</td>\n",
       "      <td>0.545700</td>\n",
       "      <td>0.0</td>\n",
       "      <td>2.0</td>\n",
       "      <td>0</td>\n",
       "    </tr>\n",
       "    <tr>\n",
       "      <th>4</th>\n",
       "      <td>4</td>\n",
       "      <td>4</td>\n",
       "      <td>4</td>\n",
       "      <td>5</td>\n",
       "      <td>3</td>\n",
       "      <td>7245110400</td>\n",
       "      <td>0.0</td>\n",
       "      <td>0.412568</td>\n",
       "      <td>0.0</td>\n",
       "      <td>0.0</td>\n",
       "      <td>...</td>\n",
       "      <td>0.0</td>\n",
       "      <td>0.0</td>\n",
       "      <td>0.834836</td>\n",
       "      <td>0.603831</td>\n",
       "      <td>0.794059</td>\n",
       "      <td>0.811583</td>\n",
       "      <td>0.539533</td>\n",
       "      <td>0.0</td>\n",
       "      <td>2.0</td>\n",
       "      <td>0</td>\n",
       "    </tr>\n",
       "  </tbody>\n",
       "</table>\n",
       "<p>5 rows × 63 columns</p>\n",
       "</div>"
      ],
      "text/plain": [
       "   Unnamed: 0  Unnamed: 0.1  Unnamed: 0.1.1  bloc  icustayid   charttime  \\\n",
       "0           0             0               0     1          3  7245052800   \n",
       "1           1             1               1     2          3  7245067200   \n",
       "2           2             2               2     3          3  7245081600   \n",
       "3           3             3               3     4          3  7245096000   \n",
       "4           4             4               4     5          3  7245110400   \n",
       "\n",
       "   gender       age  elixhauser  re_admission   ...    median_dose_vaso  \\\n",
       "0     0.0  0.412568         0.0           0.0   ...                 0.0   \n",
       "1     0.0  0.412568         0.0           0.0   ...                 0.0   \n",
       "2     0.0  0.412568         0.0           0.0   ...                 0.0   \n",
       "3     0.0  0.412568         0.0           0.0   ...                 0.0   \n",
       "4     0.0  0.412568         0.0           0.0   ...                 0.0   \n",
       "\n",
       "   max_dose_vaso  input_total_tev  input_4hourly_tev  output_total  \\\n",
       "0            0.0         0.797351           0.939195      0.589916   \n",
       "1            0.0         0.831780           0.934543      0.674384   \n",
       "2            0.0         0.833222           0.656575      0.765423   \n",
       "3            0.0         0.834033           0.603831      0.783597   \n",
       "4            0.0         0.834836           0.603831      0.794059   \n",
       "\n",
       "   output_4hourly  cumulated_balance_tev  vaso_input  iv_input  reward  \n",
       "0        0.750908               0.554500         0.0       4.0       0  \n",
       "1        0.819589               0.580033         0.0       4.0       0  \n",
       "2        0.939329               0.555033         0.0       2.0       0  \n",
       "3        0.847073               0.545700         0.0       2.0       0  \n",
       "4        0.811583               0.539533         0.0       2.0       0  \n",
       "\n",
       "[5 rows x 63 columns]"
      ]
     },
     "execution_count": 7,
     "metadata": {},
     "output_type": "execute_result"
    }
   ],
   "source": [
    "train_orig = pd.read_csv('../data/rl_train_data_final_cont.csv')\n",
    "train_orig.head()"
   ]
  },
  {
   "cell_type": "code",
   "execution_count": 8,
   "metadata": {
    "collapsed": true,
    "deletable": true,
    "editable": true
   },
   "outputs": [],
   "source": [
    "labels = train_orig['died_in_hosp']"
   ]
  },
  {
   "cell_type": "code",
   "execution_count": 9,
   "metadata": {
    "collapsed": true,
    "deletable": true,
    "editable": true
   },
   "outputs": [],
   "source": [
    "from sklearn.decomposition import PCA"
   ]
  },
  {
   "cell_type": "code",
   "execution_count": 10,
   "metadata": {
    "collapsed": true,
    "deletable": true,
    "editable": true
   },
   "outputs": [],
   "source": [
    "pca = PCA(n_components=2)"
   ]
  },
  {
   "cell_type": "code",
   "execution_count": 13,
   "metadata": {
    "collapsed": true,
    "deletable": true,
    "editable": true
   },
   "outputs": [],
   "source": [
    "X = df[range(1,201)]"
   ]
  },
  {
   "cell_type": "code",
   "execution_count": 18,
   "metadata": {
    "collapsed": false,
    "deletable": true,
    "editable": true
   },
   "outputs": [
    {
     "data": {
      "text/plain": [
       "(193654, 200)"
      ]
     },
     "execution_count": 18,
     "metadata": {},
     "output_type": "execute_result"
    }
   ],
   "source": [
    "X.shape"
   ]
  },
  {
   "cell_type": "code",
   "execution_count": 15,
   "metadata": {
    "collapsed": false,
    "deletable": true,
    "editable": true,
    "scrolled": true
   },
   "outputs": [
    {
     "data": {
      "text/plain": [
       "PCA(copy=True, iterated_power='auto', n_components=2, random_state=None,\n",
       "  svd_solver='auto', tol=0.0, whiten=False)"
      ]
     },
     "execution_count": 15,
     "metadata": {},
     "output_type": "execute_result"
    }
   ],
   "source": [
    "pca.fit(X)"
   ]
  },
  {
   "cell_type": "code",
   "execution_count": 17,
   "metadata": {
    "collapsed": false,
    "deletable": true,
    "editable": true
   },
   "outputs": [
    {
     "data": {
      "text/plain": [
       "(2, 200)"
      ]
     },
     "execution_count": 17,
     "metadata": {},
     "output_type": "execute_result"
    }
   ],
   "source": [
    "np.shape(pca.components_)"
   ]
  },
  {
   "cell_type": "code",
   "execution_count": 19,
   "metadata": {
    "collapsed": true,
    "deletable": true,
    "editable": true
   },
   "outputs": [],
   "source": [
    "X_trans = pca.transform(X)"
   ]
  },
  {
   "cell_type": "code",
   "execution_count": 22,
   "metadata": {
    "collapsed": false,
    "deletable": true,
    "editable": true
   },
   "outputs": [
    {
     "data": {
      "text/plain": [
       "(193654, 2)"
      ]
     },
     "execution_count": 22,
     "metadata": {},
     "output_type": "execute_result"
    }
   ],
   "source": [
    "X_trans.shape"
   ]
  },
  {
   "cell_type": "code",
   "execution_count": 23,
   "metadata": {
    "collapsed": true,
    "deletable": true,
    "editable": true
   },
   "outputs": [],
   "source": [
    "pc1 = X_trans[:,0]\n",
    "pc2 = X_trans[:,1]"
   ]
  },
  {
   "cell_type": "code",
   "execution_count": 24,
   "metadata": {
    "collapsed": true,
    "deletable": true,
    "editable": true
   },
   "outputs": [],
   "source": [
    "pc1 = pc1[np.where(labels == 1)]\n",
    "pc2 = pc2[np.where(labels == 1)]"
   ]
  },
  {
   "cell_type": "code",
   "execution_count": 39,
   "metadata": {
    "collapsed": true,
    "deletable": true,
    "editable": true
   },
   "outputs": [],
   "source": [
    "hist, x_edges, y_edges = np.histogram2d(pc1, pc2, bins=20)"
   ]
  },
  {
   "cell_type": "code",
   "execution_count": 47,
   "metadata": {
    "collapsed": false,
    "deletable": true,
    "editable": true
   },
   "outputs": [
    {
     "data": {
      "image/png": "[encoded data removed]",
      "text/plain": [
       "<matplotlib.figure.Figure at 0x7faa402bb3d0>"
      ]
     },
     "metadata": {},
     "output_type": "display_data"
    }
   ],
   "source": [
    "plt.imshow(hist, cmap=\"jet\", extent=[x_edges[0], x_edges[-1], y_edges[0], y_edges[-1]]) # pick your favorite cmap\n",
    "plt.colorbar(label='Mortality Counts')\n",
    "plt.xlabel('PC 1 of Sparse Autoencoder Representation', fontsize ='7.5')\n",
    "plt.ylabel('PC 2 of Sparse Autoencoder Representation'  ,fontsize ='7.5')\n",
    "plt.title('2D histogram of PCs and mortality counts')\n",
    "plt.tight_layout()\n",
    "plt.show()"
   ]
  },
  {
   "cell_type": "code",
   "execution_count": null,
   "metadata": {
    "collapsed": true,
    "deletable": true,
    "editable": true
   },
   "outputs": [],
   "source": []
  }
 ],
 "metadata": {
  "kernelspec": {
   "display_name": "Python 2",
   "language": "python",
   "name": "python2"
  },
  "language_info": {
   "codemirror_mode": {
    "name": "ipython",
    "version": 2
   },
   "file_extension": ".py",
   "mimetype": "text/x-python",
   "name": "python",
   "nbconvert_exporter": "python",
   "pygments_lexer": "ipython2",
   "version": "2.7.12"
  }
 },
 "nbformat": 4,
 "nbformat_minor": 2
}
