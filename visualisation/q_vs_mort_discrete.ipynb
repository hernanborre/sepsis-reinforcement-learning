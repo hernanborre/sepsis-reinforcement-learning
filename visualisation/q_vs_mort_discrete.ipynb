{
 "cells": [
  {
   "cell_type": "code",
   "execution_count": 1,
   "metadata": {
    "collapsed": true
   },
   "outputs": [],
   "source": [
    "#  Generate a function of q value vs mortality on the test set, including a graph, from the discrete model"
   ]
  },
  {
   "cell_type": "code",
   "execution_count": 2,
   "metadata": {
    "collapsed": true,
    "deletable": true,
    "editable": true
   },
   "outputs": [],
   "source": [
    "%matplotlib inline\n",
    "import numpy as np\n",
    "import pandas as pd\n",
    "import cPickle as pickle\n",
    "from pandas import DataFrame\n",
    "import matplotlib.pyplot as plt\n",
    "train_orig = pd.read_csv('../data/rl_train_data_final_disc.csv')"
   ]
  },
  {
   "cell_type": "code",
   "execution_count": 3,
   "metadata": {
    "collapsed": true,
    "deletable": true,
    "editable": true
   },
   "outputs": [],
   "source": [
    "test_data = pd.read_csv(\"../data/rl_test_data_final_disc.csv\")\n",
    "# Replace the two lines below with whichever q table and policy we need\n",
    "policy = pickle.load(open( \"../discrete/q_table_phys_policy_gamma_1.p\", \"rb\" ))\n",
    "q = pickle.load(open( \"../discrete/q_table_phys_policy_gamma_1.p\", \"rb\" ))"
   ]
  },
  {
   "cell_type": "code",
   "execution_count": 4,
   "metadata": {
    "collapsed": false,
    "deletable": true,
    "editable": true,
    "scrolled": true
   },
   "outputs": [
    {
     "data": {
      "text/html": [
       "<div>\n",
       "<table border=\"1\" class=\"dataframe\">\n",
       "  <thead>\n",
       "    <tr style=\"text-align: right;\">\n",
       "      <th></th>\n",
       "      <th>Unnamed: 0</th>\n",
       "      <th>bloc</th>\n",
       "      <th>icustayid</th>\n",
       "      <th>state</th>\n",
       "      <th>reward</th>\n",
       "      <th>max_dose_vaso</th>\n",
       "      <th>iv_tev_in</th>\n",
       "      <th>mortality</th>\n",
       "    </tr>\n",
       "  </thead>\n",
       "  <tbody>\n",
       "    <tr>\n",
       "      <th>0</th>\n",
       "      <td>0</td>\n",
       "      <td>1</td>\n",
       "      <td>14</td>\n",
       "      <td>753</td>\n",
       "      <td>0</td>\n",
       "      <td>0.0</td>\n",
       "      <td>4.0</td>\n",
       "      <td>0</td>\n",
       "    </tr>\n",
       "    <tr>\n",
       "      <th>1</th>\n",
       "      <td>1</td>\n",
       "      <td>2</td>\n",
       "      <td>14</td>\n",
       "      <td>753</td>\n",
       "      <td>0</td>\n",
       "      <td>0.0</td>\n",
       "      <td>3.0</td>\n",
       "      <td>0</td>\n",
       "    </tr>\n",
       "    <tr>\n",
       "      <th>2</th>\n",
       "      <td>2</td>\n",
       "      <td>3</td>\n",
       "      <td>14</td>\n",
       "      <td>499</td>\n",
       "      <td>0</td>\n",
       "      <td>0.0</td>\n",
       "      <td>3.0</td>\n",
       "      <td>0</td>\n",
       "    </tr>\n",
       "    <tr>\n",
       "      <th>3</th>\n",
       "      <td>3</td>\n",
       "      <td>4</td>\n",
       "      <td>14</td>\n",
       "      <td>4</td>\n",
       "      <td>0</td>\n",
       "      <td>0.0</td>\n",
       "      <td>2.0</td>\n",
       "      <td>0</td>\n",
       "    </tr>\n",
       "    <tr>\n",
       "      <th>4</th>\n",
       "      <td>4</td>\n",
       "      <td>5</td>\n",
       "      <td>14</td>\n",
       "      <td>902</td>\n",
       "      <td>0</td>\n",
       "      <td>0.0</td>\n",
       "      <td>0.0</td>\n",
       "      <td>0</td>\n",
       "    </tr>\n",
       "  </tbody>\n",
       "</table>\n",
       "</div>"
      ],
      "text/plain": [
       "   Unnamed: 0  bloc  icustayid  state  reward  max_dose_vaso  iv_tev_in  \\\n",
       "0           0     1         14    753       0            0.0        4.0   \n",
       "1           1     2         14    753       0            0.0        3.0   \n",
       "2           2     3         14    499       0            0.0        3.0   \n",
       "3           3     4         14      4       0            0.0        2.0   \n",
       "4           4     5         14    902       0            0.0        0.0   \n",
       "\n",
       "   mortality  \n",
       "0          0  \n",
       "1          0  \n",
       "2          0  \n",
       "3          0  \n",
       "4          0  "
      ]
     },
     "execution_count": 4,
     "metadata": {},
     "output_type": "execute_result"
    }
   ],
   "source": [
    "test_data.head()"
   ]
  },
  {
   "cell_type": "code",
   "execution_count": 5,
   "metadata": {
    "collapsed": false,
    "deletable": true,
    "editable": true
   },
   "outputs": [],
   "source": [
    "# get the unique ids\n",
    "unique_ids = test_data['icustayid'].unique()"
   ]
  },
  {
   "cell_type": "code",
   "execution_count": 6,
   "metadata": {
    "collapsed": true,
    "deletable": true,
    "editable": true
   },
   "outputs": [],
   "source": [
    "# BELOW THREE CELLS ARE DIAGNOSTICS ON TRAIN-TEST SET DISTRIBUTION"
   ]
  },
  {
   "cell_type": "code",
   "execution_count": 7,
   "metadata": {
    "collapsed": false,
    "deletable": true,
    "editable": true
   },
   "outputs": [],
   "source": [
    "# count = 0\n",
    "# for i in unique_ids:\n",
    "#     a= test_data[test_data['icustayid'] == i]\n",
    "#     u = a[a['bloc'] ==1]['mortality']\n",
    "#     x =  np.array(u)[0]\n",
    "#     count += x\n",
    "# print count/float(len(unique_ids))\n",
    "# print count"
   ]
  },
  {
   "cell_type": "code",
   "execution_count": 8,
   "metadata": {
    "collapsed": true,
    "deletable": true,
    "editable": true
   },
   "outputs": [],
   "source": [
    "# train_data = pd.read_csv('rl_train_set_small.csv')\n",
    "# unique_ids2 = train_data['icustayid'].unique()"
   ]
  },
  {
   "cell_type": "code",
   "execution_count": 9,
   "metadata": {
    "collapsed": false,
    "deletable": true,
    "editable": true
   },
   "outputs": [],
   "source": [
    "# count = 0\n",
    "# for i in unique_ids2:\n",
    "#     a= train_data[train_data['icustayid'] == i]\n",
    "#     u = a[a['bloc'] ==1]['mortality']\n",
    "#     x =  np.array(u)[0]\n",
    "#     count += x\n",
    "# print count/float(len(unique_ids2))"
   ]
  },
  {
   "cell_type": "code",
   "execution_count": 10,
   "metadata": {
    "collapsed": true,
    "deletable": true,
    "editable": true
   },
   "outputs": [],
   "source": [
    "# define an action mapping - how to get an id representing the action from the (iv,vaso) tuple\n",
    "# this is copied over from find_transition_matrix. Should really pass as argument - todo for when this\n",
    "# is implemented properly!\n",
    "action_map = {}\n",
    "count = 0\n",
    "for iv in range(5):\n",
    "    for vaso in range(5):\n",
    "        action_map[(iv,vaso)] = count\n",
    "        count += 1"
   ]
  },
  {
   "cell_type": "code",
   "execution_count": 11,
   "metadata": {
    "collapsed": false,
    "deletable": true,
    "editable": true
   },
   "outputs": [],
   "source": [
    "# evaluate physician actions - do this on an episode by episode basis\n",
    "physician_performance = []\n",
    "phys_actions = []\n",
    "for traj_id in unique_ids:\n",
    "    q_vals = []\n",
    "    trajectory = test_data.loc[test_data['icustayid'] == traj_id]\n",
    "    for row in trajectory.index:\n",
    "        iv = int(trajectory.ix[row, 'iv_tev_in'])\n",
    "        vaso = int(trajectory.ix[row, 'max_dose_vaso'])\n",
    "        action = action_map[iv,vaso]\n",
    "        state = trajectory.ix[row,'state']\n",
    "        q_vals.append(q[state,action])\n",
    "        phys_actions.append(action)\n",
    "    physician_performance.append(q_vals)    "
   ]
  },
  {
   "cell_type": "code",
   "execution_count": 12,
   "metadata": {
    "collapsed": false,
    "deletable": true,
    "editable": true,
    "scrolled": true
   },
   "outputs": [
    {
     "name": "stdout",
     "output_type": "stream",
     "text": [
      "10.4050994427\n"
     ]
    }
   ],
   "source": [
    "phys_score = 0.0\n",
    "for arr in physician_performance:\n",
    "    phys_score += np.mean(arr)\n",
    "phys_score /= len(physician_performance)\n",
    "print phys_score"
   ]
  },
  {
   "cell_type": "code",
   "execution_count": 13,
   "metadata": {
    "collapsed": false,
    "deletable": true,
    "editable": true,
    "scrolled": true
   },
   "outputs": [
    {
     "data": {
      "text/plain": [
       "<matplotlib.axes._subplots.AxesSubplot at 0x7f51782baa10>"
      ]
     },
     "execution_count": 13,
     "metadata": {},
     "output_type": "execute_result"
    },
    {
     "data": {
      "image/png": "[encoded data removed]",
      "text/plain": [
       "<matplotlib.figure.Figure at 0x7f5178528d50>"
      ]
     },
     "metadata": {},
     "output_type": "display_data"
    }
   ],
   "source": [
    "pd.Series(phys_actions).hist(bins=50)"
   ]
  },
  {
   "cell_type": "code",
   "execution_count": 14,
   "metadata": {
    "collapsed": true,
    "deletable": true,
    "editable": true
   },
   "outputs": [],
   "source": [
    "all_phys_performance = []\n",
    "for arr in physician_performance:\n",
    "    all_phys_performance.extend(arr)"
   ]
  },
  {
   "cell_type": "code",
   "execution_count": 15,
   "metadata": {
    "collapsed": false,
    "deletable": true,
    "editable": true
   },
   "outputs": [],
   "source": [
    "pp = pd.Series(all_phys_performance)\n",
    "phys_df = pd.DataFrame(pp)"
   ]
  },
  {
   "cell_type": "code",
   "execution_count": 16,
   "metadata": {
    "collapsed": false,
    "deletable": true,
    "editable": true
   },
   "outputs": [],
   "source": [
    "import copy\n",
    "phys_df['mort'] = copy.deepcopy(np.array(test_data['mortality']))"
   ]
  },
  {
   "cell_type": "code",
   "execution_count": 17,
   "metadata": {
    "collapsed": true,
    "deletable": true,
    "editable": true
   },
   "outputs": [],
   "source": [
    "from scipy.stats import sem"
   ]
  },
  {
   "cell_type": "code",
   "execution_count": 18,
   "metadata": {
    "collapsed": false,
    "deletable": true,
    "editable": true
   },
   "outputs": [],
   "source": [
    "bin_medians = []\n",
    "mort = []\n",
    "mort_std = []\n",
    "i = -15\n",
    "while i <= 20:\n",
    "    count =phys_df.loc[(phys_df[0]>i-0.5) & (phys_df[0]<i+0.5)]\n",
    "    try:\n",
    "        res = sum(count['mort'])/float(len(count))\n",
    "        if len(count) >=2:\n",
    "            bin_medians.append(i)\n",
    "            mort.append(res)\n",
    "            mort_std.append(sem(count['mort']))\n",
    "    except ZeroDivisionError:\n",
    "        pass\n",
    "    i += 1"
   ]
  },
  {
   "cell_type": "code",
   "execution_count": 24,
   "metadata": {
    "collapsed": true,
    "deletable": true,
    "editable": true
   },
   "outputs": [],
   "source": [
    "def sliding_mean(data_array, window=2):\n",
    "    new_list = []\n",
    "    for i in range(len(data_array)):\n",
    "        indices = range(max(i - window + 1, 0),\n",
    "                        min(i + window + 1, len(data_array)))\n",
    "        avg = 0\n",
    "        for j in indices:\n",
    "            avg += data_array[j]\n",
    "        avg /= float(len(indices))\n",
    "        new_list.append(avg)     \n",
    "    return np.array(new_list)"
   ]
  },
  {
   "cell_type": "code",
   "execution_count": 25,
   "metadata": {
    "collapsed": false,
    "deletable": true,
    "editable": true,
    "scrolled": true
   },
   "outputs": [
    {
     "data": {
      "image/png": "[encoded data removed]",
      "text/plain": [
       "<matplotlib.figure.Figure at 0x7f511f11be50>"
      ]
     },
     "metadata": {},
     "output_type": "display_data"
    }
   ],
   "source": [
    "plt.figure(figsize=(6, 4.5))\n",
    "plt.plot(bin_medians, sliding_mean(mort))\n",
    "plt.fill_between(bin_medians, sliding_mean(mort) - 1*sliding_mean(mort_std),  \n",
    "                 sliding_mean(mort) + 1*sliding_mean(mort_std), color='#ADD8E6')\n",
    "plt.grid()\n",
    "plt.xticks(range(-15,20,5))\n",
    "r = [float(i)/10 for i in range(0,11,1)]\n",
    "_ = plt.yticks(r)\n",
    "_ = plt.title(\"Mortality vs Expected Return\", fontsize=15)  \n",
    "_ = plt.ylabel(\"Proportion Mortality\")\n",
    "_ = plt.xlabel(\"Expected Return\")"
   ]
  },
  {
   "cell_type": "code",
   "execution_count": 56,
   "metadata": {
    "collapsed": false,
    "deletable": true,
    "editable": true
   },
   "outputs": [
    {
     "data": {
      "text/plain": [
       "0.13665054512664973"
      ]
     },
     "execution_count": 56,
     "metadata": {},
     "output_type": "execute_result"
    }
   ],
   "source": [
    "len(phys_df[phys_df['mort']==1])/float(len(phys_df))"
   ]
  },
  {
   "cell_type": "code",
   "execution_count": 57,
   "metadata": {
    "collapsed": true,
    "deletable": true,
    "editable": true
   },
   "outputs": [],
   "source": [
    "with open('../common/phys_actions.p', 'wb') as f:\n",
    "    pickle.dump(phys_actions, f)"
   ]
  }
 ],
 "metadata": {
  "kernelspec": {
   "display_name": "Python 2",
   "language": "python",
   "name": "python2"
  },
  "language_info": {
   "codemirror_mode": {
    "name": "ipython",
    "version": 2
   },
   "file_extension": ".py",
   "mimetype": "text/x-python",
   "name": "python",
   "nbconvert_exporter": "python",
   "pygments_lexer": "ipython2",
   "version": "2.7.12"
  }
 },
 "nbformat": 4,
 "nbformat_minor": 2
}
