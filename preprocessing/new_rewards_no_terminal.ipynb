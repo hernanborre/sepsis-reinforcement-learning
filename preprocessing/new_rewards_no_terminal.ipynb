{
 "cells": [
  {
   "cell_type": "code",
   "execution_count": 1,
   "metadata": {
    "collapsed": true
   },
   "outputs": [],
   "source": [
    "#  Reward function shaping in this script -- no terminal reward"
   ]
  },
  {
   "cell_type": "code",
   "execution_count": 2,
   "metadata": {
    "collapsed": true
   },
   "outputs": [],
   "source": [
    "import pandas as pd\n",
    "import numpy as np\n",
    "try:\n",
    "    import cPickle as pickle\n",
    "except ImportError:\n",
    "    import _pickle as pickle"
   ]
  },
  {
   "cell_type": "code",
   "execution_count": 3,
   "metadata": {
    "collapsed": true
   },
   "outputs": [],
   "source": [
    "df_train = pd.read_csv('../data/rl_train_set_scaled.csv')\n",
    "df_val =  pd.read_csv('../data/rl_val_set_scaled.csv')\n",
    "df_test = pd.read_csv('../data/rl_test_set_scaled.csv')"
   ]
  },
  {
   "cell_type": "code",
   "execution_count": 4,
   "metadata": {
    "collapsed": true
   },
   "outputs": [],
   "source": [
    "# df_train_disc = pd.read_csv('../data/rl_train_data_discrete.csv')\n",
    "# df_val_disc = pd.read_csv('../data/rl_val_data_discrete.csv')\n",
    "# df_test_disc = pd.read_csv('../data/rl_test_data_discrete.csv')"
   ]
  },
  {
   "cell_type": "code",
   "execution_count": 5,
   "metadata": {},
   "outputs": [
    {
     "data": {
      "text/html": [
       "<div>\n",
       "<style>\n",
       "    .dataframe thead tr:only-child th {\n",
       "        text-align: right;\n",
       "    }\n",
       "\n",
       "    .dataframe thead th {\n",
       "        text-align: left;\n",
       "    }\n",
       "\n",
       "    .dataframe tbody tr th {\n",
       "        vertical-align: top;\n",
       "    }\n",
       "</style>\n",
       "<table border=\"1\" class=\"dataframe\">\n",
       "  <thead>\n",
       "    <tr style=\"text-align: right;\">\n",
       "      <th></th>\n",
       "      <th>bloc</th>\n",
       "      <th>icustayid</th>\n",
       "      <th>charttime</th>\n",
       "      <th>gender</th>\n",
       "      <th>age</th>\n",
       "      <th>elixhauser</th>\n",
       "      <th>re_admission</th>\n",
       "      <th>died_in_hosp</th>\n",
       "      <th>mortality_90d</th>\n",
       "      <th>Weight_kg</th>\n",
       "      <th>...</th>\n",
       "      <th>median_dose_vaso</th>\n",
       "      <th>max_dose_vaso</th>\n",
       "      <th>input_total_tev</th>\n",
       "      <th>input_4hourly_tev</th>\n",
       "      <th>output_total</th>\n",
       "      <th>output_4hourly</th>\n",
       "      <th>cumulated_balance_tev</th>\n",
       "      <th>vaso_input</th>\n",
       "      <th>iv_input</th>\n",
       "      <th>reward</th>\n",
       "    </tr>\n",
       "  </thead>\n",
       "  <tbody>\n",
       "    <tr>\n",
       "      <th>0</th>\n",
       "      <td>0.000000</td>\n",
       "      <td>3</td>\n",
       "      <td>7245052800</td>\n",
       "      <td>0.0</td>\n",
       "      <td>0.412568</td>\n",
       "      <td>0.0</td>\n",
       "      <td>0.0</td>\n",
       "      <td>0</td>\n",
       "      <td>1</td>\n",
       "      <td>0.262712</td>\n",
       "      <td>...</td>\n",
       "      <td>0.0</td>\n",
       "      <td>0.0</td>\n",
       "      <td>0.797351</td>\n",
       "      <td>0.939195</td>\n",
       "      <td>0.589916</td>\n",
       "      <td>0.750908</td>\n",
       "      <td>0.554500</td>\n",
       "      <td>0.0</td>\n",
       "      <td>4.0</td>\n",
       "      <td>0</td>\n",
       "    </tr>\n",
       "    <tr>\n",
       "      <th>1</th>\n",
       "      <td>0.222560</td>\n",
       "      <td>3</td>\n",
       "      <td>7245067200</td>\n",
       "      <td>0.0</td>\n",
       "      <td>0.412568</td>\n",
       "      <td>0.0</td>\n",
       "      <td>0.0</td>\n",
       "      <td>0</td>\n",
       "      <td>1</td>\n",
       "      <td>0.262712</td>\n",
       "      <td>...</td>\n",
       "      <td>0.0</td>\n",
       "      <td>0.0</td>\n",
       "      <td>0.831780</td>\n",
       "      <td>0.934543</td>\n",
       "      <td>0.674384</td>\n",
       "      <td>0.819589</td>\n",
       "      <td>0.580033</td>\n",
       "      <td>0.0</td>\n",
       "      <td>4.0</td>\n",
       "      <td>0</td>\n",
       "    </tr>\n",
       "    <tr>\n",
       "      <th>2</th>\n",
       "      <td>0.356608</td>\n",
       "      <td>3</td>\n",
       "      <td>7245081600</td>\n",
       "      <td>0.0</td>\n",
       "      <td>0.412568</td>\n",
       "      <td>0.0</td>\n",
       "      <td>0.0</td>\n",
       "      <td>0</td>\n",
       "      <td>1</td>\n",
       "      <td>0.262712</td>\n",
       "      <td>...</td>\n",
       "      <td>0.0</td>\n",
       "      <td>0.0</td>\n",
       "      <td>0.833222</td>\n",
       "      <td>0.656575</td>\n",
       "      <td>0.765423</td>\n",
       "      <td>0.939329</td>\n",
       "      <td>0.555033</td>\n",
       "      <td>0.0</td>\n",
       "      <td>2.0</td>\n",
       "      <td>0</td>\n",
       "    </tr>\n",
       "    <tr>\n",
       "      <th>3</th>\n",
       "      <td>0.452837</td>\n",
       "      <td>3</td>\n",
       "      <td>7245096000</td>\n",
       "      <td>0.0</td>\n",
       "      <td>0.412568</td>\n",
       "      <td>0.0</td>\n",
       "      <td>0.0</td>\n",
       "      <td>0</td>\n",
       "      <td>1</td>\n",
       "      <td>0.262712</td>\n",
       "      <td>...</td>\n",
       "      <td>0.0</td>\n",
       "      <td>0.0</td>\n",
       "      <td>0.834033</td>\n",
       "      <td>0.603831</td>\n",
       "      <td>0.783597</td>\n",
       "      <td>0.847073</td>\n",
       "      <td>0.545700</td>\n",
       "      <td>0.0</td>\n",
       "      <td>2.0</td>\n",
       "      <td>0</td>\n",
       "    </tr>\n",
       "    <tr>\n",
       "      <th>4</th>\n",
       "      <td>0.527957</td>\n",
       "      <td>3</td>\n",
       "      <td>7245110400</td>\n",
       "      <td>0.0</td>\n",
       "      <td>0.412568</td>\n",
       "      <td>0.0</td>\n",
       "      <td>0.0</td>\n",
       "      <td>0</td>\n",
       "      <td>1</td>\n",
       "      <td>0.262712</td>\n",
       "      <td>...</td>\n",
       "      <td>0.0</td>\n",
       "      <td>0.0</td>\n",
       "      <td>0.834836</td>\n",
       "      <td>0.603831</td>\n",
       "      <td>0.794059</td>\n",
       "      <td>0.811583</td>\n",
       "      <td>0.539533</td>\n",
       "      <td>0.0</td>\n",
       "      <td>2.0</td>\n",
       "      <td>0</td>\n",
       "    </tr>\n",
       "  </tbody>\n",
       "</table>\n",
       "<p>5 rows × 60 columns</p>\n",
       "</div>"
      ],
      "text/plain": [
       "       bloc  icustayid   charttime  gender       age  elixhauser  \\\n",
       "0  0.000000          3  7245052800     0.0  0.412568         0.0   \n",
       "1  0.222560          3  7245067200     0.0  0.412568         0.0   \n",
       "2  0.356608          3  7245081600     0.0  0.412568         0.0   \n",
       "3  0.452837          3  7245096000     0.0  0.412568         0.0   \n",
       "4  0.527957          3  7245110400     0.0  0.412568         0.0   \n",
       "\n",
       "   re_admission  died_in_hosp  mortality_90d  Weight_kg   ...    \\\n",
       "0           0.0             0              1   0.262712   ...     \n",
       "1           0.0             0              1   0.262712   ...     \n",
       "2           0.0             0              1   0.262712   ...     \n",
       "3           0.0             0              1   0.262712   ...     \n",
       "4           0.0             0              1   0.262712   ...     \n",
       "\n",
       "   median_dose_vaso  max_dose_vaso  input_total_tev  input_4hourly_tev  \\\n",
       "0               0.0            0.0         0.797351           0.939195   \n",
       "1               0.0            0.0         0.831780           0.934543   \n",
       "2               0.0            0.0         0.833222           0.656575   \n",
       "3               0.0            0.0         0.834033           0.603831   \n",
       "4               0.0            0.0         0.834836           0.603831   \n",
       "\n",
       "   output_total  output_4hourly  cumulated_balance_tev  vaso_input  iv_input  \\\n",
       "0      0.589916        0.750908               0.554500         0.0       4.0   \n",
       "1      0.674384        0.819589               0.580033         0.0       4.0   \n",
       "2      0.765423        0.939329               0.555033         0.0       2.0   \n",
       "3      0.783597        0.847073               0.545700         0.0       2.0   \n",
       "4      0.794059        0.811583               0.539533         0.0       2.0   \n",
       "\n",
       "   reward  \n",
       "0       0  \n",
       "1       0  \n",
       "2       0  \n",
       "3       0  \n",
       "4       0  \n",
       "\n",
       "[5 rows x 60 columns]"
      ]
     },
     "execution_count": 5,
     "metadata": {},
     "output_type": "execute_result"
    }
   ],
   "source": [
    "df_train.head()"
   ]
  },
  {
   "cell_type": "code",
   "execution_count": 6,
   "metadata": {},
   "outputs": [
    {
     "data": {
      "text/plain": [
       "169495"
      ]
     },
     "execution_count": 6,
     "metadata": {},
     "output_type": "execute_result"
    }
   ],
   "source": [
    "len(df_train)"
   ]
  },
  {
   "cell_type": "code",
   "execution_count": 7,
   "metadata": {},
   "outputs": [
    {
     "data": {
      "text/html": [
       "<div>\n",
       "<style>\n",
       "    .dataframe thead tr:only-child th {\n",
       "        text-align: right;\n",
       "    }\n",
       "\n",
       "    .dataframe thead th {\n",
       "        text-align: left;\n",
       "    }\n",
       "\n",
       "    .dataframe tbody tr th {\n",
       "        vertical-align: top;\n",
       "    }\n",
       "</style>\n",
       "<table border=\"1\" class=\"dataframe\">\n",
       "  <thead>\n",
       "    <tr style=\"text-align: right;\">\n",
       "      <th></th>\n",
       "      <th>bloc</th>\n",
       "      <th>icustayid</th>\n",
       "      <th>charttime</th>\n",
       "      <th>gender</th>\n",
       "      <th>age</th>\n",
       "      <th>elixhauser</th>\n",
       "      <th>re_admission</th>\n",
       "      <th>died_in_hosp</th>\n",
       "      <th>mortality_90d</th>\n",
       "      <th>Weight_kg</th>\n",
       "      <th>...</th>\n",
       "      <th>median_dose_vaso</th>\n",
       "      <th>max_dose_vaso</th>\n",
       "      <th>input_total_tev</th>\n",
       "      <th>input_4hourly_tev</th>\n",
       "      <th>output_total</th>\n",
       "      <th>output_4hourly</th>\n",
       "      <th>cumulated_balance_tev</th>\n",
       "      <th>vaso_input</th>\n",
       "      <th>iv_input</th>\n",
       "      <th>reward</th>\n",
       "    </tr>\n",
       "  </thead>\n",
       "  <tbody>\n",
       "    <tr>\n",
       "      <th>0</th>\n",
       "      <td>0.000000</td>\n",
       "      <td>33</td>\n",
       "      <td>7214126400</td>\n",
       "      <td>0.0</td>\n",
       "      <td>0.669454</td>\n",
       "      <td>0.357143</td>\n",
       "      <td>0.0</td>\n",
       "      <td>1</td>\n",
       "      <td>1</td>\n",
       "      <td>0.247458</td>\n",
       "      <td>...</td>\n",
       "      <td>0.0</td>\n",
       "      <td>0.0</td>\n",
       "      <td>0.883180</td>\n",
       "      <td>0.838839</td>\n",
       "      <td>0.834329</td>\n",
       "      <td>0.776672</td>\n",
       "      <td>0.585147</td>\n",
       "      <td>0.0</td>\n",
       "      <td>4.0</td>\n",
       "      <td>0</td>\n",
       "    </tr>\n",
       "    <tr>\n",
       "      <th>1</th>\n",
       "      <td>0.222560</td>\n",
       "      <td>33</td>\n",
       "      <td>7214140800</td>\n",
       "      <td>0.0</td>\n",
       "      <td>0.669454</td>\n",
       "      <td>0.357143</td>\n",
       "      <td>0.0</td>\n",
       "      <td>1</td>\n",
       "      <td>1</td>\n",
       "      <td>0.247458</td>\n",
       "      <td>...</td>\n",
       "      <td>0.0</td>\n",
       "      <td>0.0</td>\n",
       "      <td>0.888664</td>\n",
       "      <td>0.848773</td>\n",
       "      <td>0.839133</td>\n",
       "      <td>0.797009</td>\n",
       "      <td>0.592405</td>\n",
       "      <td>0.0</td>\n",
       "      <td>4.0</td>\n",
       "      <td>0</td>\n",
       "    </tr>\n",
       "    <tr>\n",
       "      <th>2</th>\n",
       "      <td>0.356608</td>\n",
       "      <td>33</td>\n",
       "      <td>7214155200</td>\n",
       "      <td>0.0</td>\n",
       "      <td>0.669454</td>\n",
       "      <td>0.357143</td>\n",
       "      <td>0.0</td>\n",
       "      <td>1</td>\n",
       "      <td>1</td>\n",
       "      <td>0.247458</td>\n",
       "      <td>...</td>\n",
       "      <td>0.0</td>\n",
       "      <td>0.0</td>\n",
       "      <td>0.894069</td>\n",
       "      <td>0.854142</td>\n",
       "      <td>0.842937</td>\n",
       "      <td>0.779852</td>\n",
       "      <td>0.601449</td>\n",
       "      <td>0.0</td>\n",
       "      <td>4.0</td>\n",
       "      <td>0</td>\n",
       "    </tr>\n",
       "    <tr>\n",
       "      <th>3</th>\n",
       "      <td>0.452837</td>\n",
       "      <td>33</td>\n",
       "      <td>7214169600</td>\n",
       "      <td>0.0</td>\n",
       "      <td>0.669454</td>\n",
       "      <td>0.357143</td>\n",
       "      <td>0.0</td>\n",
       "      <td>1</td>\n",
       "      <td>1</td>\n",
       "      <td>0.247458</td>\n",
       "      <td>...</td>\n",
       "      <td>0.0</td>\n",
       "      <td>0.0</td>\n",
       "      <td>0.898397</td>\n",
       "      <td>0.839183</td>\n",
       "      <td>0.845526</td>\n",
       "      <td>0.746598</td>\n",
       "      <td>0.609910</td>\n",
       "      <td>0.0</td>\n",
       "      <td>4.0</td>\n",
       "      <td>0</td>\n",
       "    </tr>\n",
       "    <tr>\n",
       "      <th>4</th>\n",
       "      <td>0.527957</td>\n",
       "      <td>33</td>\n",
       "      <td>7214184000</td>\n",
       "      <td>0.0</td>\n",
       "      <td>0.669454</td>\n",
       "      <td>0.357143</td>\n",
       "      <td>0.0</td>\n",
       "      <td>1</td>\n",
       "      <td>1</td>\n",
       "      <td>0.247458</td>\n",
       "      <td>...</td>\n",
       "      <td>0.0</td>\n",
       "      <td>0.0</td>\n",
       "      <td>0.901804</td>\n",
       "      <td>0.821399</td>\n",
       "      <td>0.848365</td>\n",
       "      <td>0.758993</td>\n",
       "      <td>0.615787</td>\n",
       "      <td>0.0</td>\n",
       "      <td>4.0</td>\n",
       "      <td>0</td>\n",
       "    </tr>\n",
       "  </tbody>\n",
       "</table>\n",
       "<p>5 rows × 60 columns</p>\n",
       "</div>"
      ],
      "text/plain": [
       "       bloc  icustayid   charttime  gender       age  elixhauser  \\\n",
       "0  0.000000         33  7214126400     0.0  0.669454    0.357143   \n",
       "1  0.222560         33  7214140800     0.0  0.669454    0.357143   \n",
       "2  0.356608         33  7214155200     0.0  0.669454    0.357143   \n",
       "3  0.452837         33  7214169600     0.0  0.669454    0.357143   \n",
       "4  0.527957         33  7214184000     0.0  0.669454    0.357143   \n",
       "\n",
       "   re_admission  died_in_hosp  mortality_90d  Weight_kg   ...    \\\n",
       "0           0.0             1              1   0.247458   ...     \n",
       "1           0.0             1              1   0.247458   ...     \n",
       "2           0.0             1              1   0.247458   ...     \n",
       "3           0.0             1              1   0.247458   ...     \n",
       "4           0.0             1              1   0.247458   ...     \n",
       "\n",
       "   median_dose_vaso  max_dose_vaso  input_total_tev  input_4hourly_tev  \\\n",
       "0               0.0            0.0         0.883180           0.838839   \n",
       "1               0.0            0.0         0.888664           0.848773   \n",
       "2               0.0            0.0         0.894069           0.854142   \n",
       "3               0.0            0.0         0.898397           0.839183   \n",
       "4               0.0            0.0         0.901804           0.821399   \n",
       "\n",
       "   output_total  output_4hourly  cumulated_balance_tev  vaso_input  iv_input  \\\n",
       "0      0.834329        0.776672               0.585147         0.0       4.0   \n",
       "1      0.839133        0.797009               0.592405         0.0       4.0   \n",
       "2      0.842937        0.779852               0.601449         0.0       4.0   \n",
       "3      0.845526        0.746598               0.609910         0.0       4.0   \n",
       "4      0.848365        0.758993               0.615787         0.0       4.0   \n",
       "\n",
       "   reward  \n",
       "0       0  \n",
       "1       0  \n",
       "2       0  \n",
       "3       0  \n",
       "4       0  \n",
       "\n",
       "[5 rows x 60 columns]"
      ]
     },
     "execution_count": 7,
     "metadata": {},
     "output_type": "execute_result"
    }
   ],
   "source": [
    "df_test.head()"
   ]
  },
  {
   "cell_type": "code",
   "execution_count": 9,
   "metadata": {},
   "outputs": [],
   "source": [
    "# Clear existing rewards\n",
    "df_train['reward'] = 0\n",
    "df_val['reward'] = 0\n",
    "df_test['reward'] = 0"
   ]
  },
  {
   "cell_type": "code",
   "execution_count": 10,
   "metadata": {
    "collapsed": true
   },
   "outputs": [],
   "source": [
    "orig_df = pd.read_csv('../data/MKdataset07Feb17.csv')"
   ]
  },
  {
   "cell_type": "code",
   "execution_count": 11,
   "metadata": {
    "collapsed": true
   },
   "outputs": [],
   "source": [
    "# lactate - target is 0.5 to 1 mmol/l\n",
    "# SOFA - 0\n",
    "#  GCS - 0\n",
    "#  mechvent = 0\n",
    "# MAP is normally between 65 and 110 mmHg"
   ]
  },
  {
   "cell_type": "code",
   "execution_count": 12,
   "metadata": {
    "collapsed": true
   },
   "outputs": [],
   "source": [
    "# s1 = orig_df['SOFA'].values\n",
    "# s2 = orig_df['SOFA'].values\n",
    "# s2 = np.insert(s2,0,9)\n",
    "# s2 = np.delete(s2, -1)\n",
    "# print len(s1), len(s2)"
   ]
  },
  {
   "cell_type": "code",
   "execution_count": 13,
   "metadata": {
    "collapsed": true
   },
   "outputs": [],
   "source": [
    "# pd.Series(s2-s1).hist(bins=100)"
   ]
  },
  {
   "cell_type": "code",
   "execution_count": 14,
   "metadata": {
    "collapsed": true
   },
   "outputs": [],
   "source": [
    "# l1 = orig_df['Arterial_lactate'].values\n",
    "# l2 = orig_df['Arterial_lactate'].values\n",
    "# l2 = np.insert(l2,0,9)\n",
    "# l2 = np.delete(l2, -1)\n",
    "# print len(l1), len(l2)"
   ]
  },
  {
   "cell_type": "code",
   "execution_count": 25,
   "metadata": {
    "collapsed": true
   },
   "outputs": [],
   "source": [
    "c0 = -0.25\n",
    "c1 = -0.75\n",
    "c2 = -0.5"
   ]
  },
  {
   "cell_type": "code",
   "execution_count": 26,
   "metadata": {
    "collapsed": true
   },
   "outputs": [],
   "source": [
    "# c0 = -0.1/2\n",
    "# c1 = -0.5/2\n",
    "# c2 = -2"
   ]
  },
  {
   "cell_type": "code",
   "execution_count": 27,
   "metadata": {
    "scrolled": true
   },
   "outputs": [
    {
     "name": "stdout",
     "output_type": "stream",
     "text": [
      "10000\n",
      "20000\n",
      "30000\n",
      "40000\n",
      "50000\n",
      "60000\n",
      "70000\n",
      "80000\n",
      "90000\n",
      "100000\n",
      "110000\n",
      "120000\n",
      "130000\n",
      "140000\n",
      "150000\n",
      "160000\n",
      "170000\n",
      "180000\n",
      "190000\n",
      "200000\n",
      "210000\n",
      "220000\n",
      "230000\n",
      "240000\n",
      "-0.250000    26568\n",
      " 0.000000    18459\n",
      " 0.750000     8824\n",
      "-0.750000     8061\n",
      " 1.500000     3221\n",
      "-1.500000     2777\n",
      " 2.250000     2112\n",
      " 3.000000     1953\n",
      "-2.250000     1431\n",
      "-3.000000      966\n",
      " 3.750000      511\n",
      "-0.299834      448\n",
      "-0.200166      441\n",
      "-0.259999      426\n",
      "-0.274979      412\n",
      "-0.225021      374\n",
      "-0.230011      353\n",
      "-0.240001      314\n",
      "-3.750000      293\n",
      "-0.262497      249\n",
      "-0.233340      237\n",
      "-0.237503      230\n",
      "-0.266660      230\n",
      "-0.269989      230\n",
      "-0.243750      218\n",
      "-0.348688      207\n",
      " 0.799834      205\n",
      " 0.700166      197\n",
      "-0.200166      192\n",
      "-0.324443      181\n",
      "             ...  \n",
      "-1.002336        1\n",
      "-0.717822        1\n",
      " 0.019989        1\n",
      " 0.711839        1\n",
      " 1.438943        1\n",
      "-0.749117        1\n",
      " 0.397216        1\n",
      "-0.266106        1\n",
      "-0.215843        1\n",
      "-0.908124        1\n",
      "-0.843337        1\n",
      "-0.344103        1\n",
      "-0.950682        1\n",
      "-1.508064        1\n",
      "-0.753448        1\n",
      "-0.652228        1\n",
      " 0.198664        1\n",
      "-2.227707        1\n",
      "-1.535424        1\n",
      "-0.316904        1\n",
      "-2.997299        1\n",
      "-0.786889        1\n",
      " 2.181453        1\n",
      "-0.320123        1\n",
      "-0.211189        1\n",
      " 0.008333        1\n",
      "-1.483877        1\n",
      " 1.677967        1\n",
      "-3.017585        1\n",
      "-0.770733        1\n",
      "Name: shaped_reward, Length: 58009, dtype: int64\n"
     ]
    }
   ],
   "source": [
    "# add rewards\n",
    "orig_df['shaped_reward'] = 0\n",
    "for i in orig_df.index:\n",
    "    if i == 0:\n",
    "        continue\n",
    "    if orig_df.loc[i, 'icustayid'] == orig_df.loc[i-1, 'icustayid']:\n",
    "        sofa_cur = orig_df.loc[i,'SOFA']\n",
    "        sofa_prev = orig_df.loc[i-1,'SOFA']\n",
    "        lact_cur = orig_df.loc[i,'Arterial_lactate']\n",
    "        lact_prev = orig_df.loc[i-1,'Arterial_lactate']\n",
    "        reward = 0\n",
    "        if sofa_cur == sofa_prev and sofa_cur != 0:\n",
    "            reward += c0\n",
    "        reward += c1*(sofa_cur-sofa_prev)\n",
    "        reward += c2*np.tanh(lact_cur - lact_prev)\n",
    "        orig_df.loc[i-1,'shaped_reward'] = reward\n",
    "    if i % 10000 == 0:\n",
    "        print(i)\n",
    "\n",
    "# if orig_df.ix[len(orig_df)-1, 'died_in_hosp'] == 1:\n",
    "#     orig_df.ix[len(orig_df)-1, 'shaped_reward'] = -100\n",
    "# elif orig_df.ix[len(orig_df)-1, 'died_in_hosp'] == 0:\n",
    "#      orig_df.ix[len(orig_df)-1, 'shaped_reward'] = 100\n",
    "print(orig_df['shaped_reward'].value_counts())"
   ]
  },
  {
   "cell_type": "code",
   "execution_count": 28,
   "metadata": {},
   "outputs": [
    {
     "data": {
      "text/plain": [
       "<matplotlib.axes._subplots.AxesSubplot at 0x7f53ae3c76d8>"
      ]
     },
     "execution_count": 28,
     "metadata": {},
     "output_type": "execute_result"
    },
    {
     "data": {
      "image/png": "[encoded data removed]",
      "text/plain": [
       "<matplotlib.figure.Figure at 0x7f53ae41b9b0>"
      ]
     },
     "metadata": {},
     "output_type": "display_data"
    }
   ],
   "source": [
    "%matplotlib inline\n",
    "orig_df['shaped_reward'].hist(bins=100)"
   ]
  },
  {
   "cell_type": "code",
   "execution_count": 32,
   "metadata": {
    "collapsed": true
   },
   "outputs": [],
   "source": [
    "train_ids = df_train['icustayid'].unique()\n",
    "val_ids = df_val['icustayid'].unique()\n",
    "test_ids = df_test['icustayid'].unique()"
   ]
  },
  {
   "cell_type": "code",
   "execution_count": 33,
   "metadata": {
    "collapsed": true
   },
   "outputs": [],
   "source": [
    "train_rewards = orig_df.loc[orig_df['icustayid'].isin(train_ids)]['shaped_reward']"
   ]
  },
  {
   "cell_type": "code",
   "execution_count": 34,
   "metadata": {},
   "outputs": [
    {
     "data": {
      "text/plain": [
       "169495"
      ]
     },
     "execution_count": 34,
     "metadata": {},
     "output_type": "execute_result"
    }
   ],
   "source": [
    "len(train_rewards)"
   ]
  },
  {
   "cell_type": "code",
   "execution_count": 35,
   "metadata": {
    "scrolled": true
   },
   "outputs": [
    {
     "data": {
      "text/plain": [
       "242432   -0.271415\n",
       "242433   -0.271415\n",
       "242434    0.728585\n",
       "242435   -0.271415\n",
       "242436    0.000000\n",
       "Name: shaped_reward, dtype: float64"
      ]
     },
     "execution_count": 35,
     "metadata": {},
     "output_type": "execute_result"
    }
   ],
   "source": [
    "train_rewards.tail()"
   ]
  },
  {
   "cell_type": "code",
   "execution_count": 36,
   "metadata": {
    "collapsed": true
   },
   "outputs": [],
   "source": [
    "# check this works as expected\n",
    "val_rewards = orig_df.loc[orig_df['icustayid'].isin(val_ids)]['shaped_reward']"
   ]
  },
  {
   "cell_type": "code",
   "execution_count": 37,
   "metadata": {
    "collapsed": true
   },
   "outputs": [],
   "source": [
    "test_rewards = orig_df.loc[orig_df['icustayid'].isin(test_ids)]['shaped_reward']"
   ]
  },
  {
   "cell_type": "code",
   "execution_count": 38,
   "metadata": {},
   "outputs": [
    {
     "data": {
      "text/plain": [
       "48617"
      ]
     },
     "execution_count": 38,
     "metadata": {},
     "output_type": "execute_result"
    }
   ],
   "source": [
    "len(test_rewards)"
   ]
  },
  {
   "cell_type": "code",
   "execution_count": 39,
   "metadata": {},
   "outputs": [
    {
     "data": {
      "text/plain": [
       "24338"
      ]
     },
     "execution_count": 39,
     "metadata": {},
     "output_type": "execute_result"
    }
   ],
   "source": [
    "len(val_rewards)"
   ]
  },
  {
   "cell_type": "code",
   "execution_count": 40,
   "metadata": {
    "scrolled": true
   },
   "outputs": [
    {
     "data": {
      "text/plain": [
       "242450"
      ]
     },
     "execution_count": 40,
     "metadata": {},
     "output_type": "execute_result"
    }
   ],
   "source": [
    "len(orig_df)"
   ]
  },
  {
   "cell_type": "code",
   "execution_count": 41,
   "metadata": {
    "scrolled": true
   },
   "outputs": [
    {
     "data": {
      "text/html": [
       "<div>\n",
       "<style>\n",
       "    .dataframe thead tr:only-child th {\n",
       "        text-align: right;\n",
       "    }\n",
       "\n",
       "    .dataframe thead th {\n",
       "        text-align: left;\n",
       "    }\n",
       "\n",
       "    .dataframe tbody tr th {\n",
       "        vertical-align: top;\n",
       "    }\n",
       "</style>\n",
       "<table border=\"1\" class=\"dataframe\">\n",
       "  <thead>\n",
       "    <tr style=\"text-align: right;\">\n",
       "      <th></th>\n",
       "      <th>bloc</th>\n",
       "      <th>icustayid</th>\n",
       "      <th>charttime</th>\n",
       "      <th>gender</th>\n",
       "      <th>age</th>\n",
       "      <th>elixhauser</th>\n",
       "      <th>re_admission</th>\n",
       "      <th>died_in_hosp</th>\n",
       "      <th>mortality_90d</th>\n",
       "      <th>Weight_kg</th>\n",
       "      <th>...</th>\n",
       "      <th>median_dose_vaso</th>\n",
       "      <th>max_dose_vaso</th>\n",
       "      <th>input_total_tev</th>\n",
       "      <th>input_4hourly_tev</th>\n",
       "      <th>output_total</th>\n",
       "      <th>output_4hourly</th>\n",
       "      <th>cumulated_balance_tev</th>\n",
       "      <th>vaso_input</th>\n",
       "      <th>iv_input</th>\n",
       "      <th>reward</th>\n",
       "    </tr>\n",
       "  </thead>\n",
       "  <tbody>\n",
       "    <tr>\n",
       "      <th>169490</th>\n",
       "      <td>0.923625</td>\n",
       "      <td>99994</td>\n",
       "      <td>4574226420</td>\n",
       "      <td>1.0</td>\n",
       "      <td>0.766044</td>\n",
       "      <td>0.428571</td>\n",
       "      <td>1.0</td>\n",
       "      <td>0</td>\n",
       "      <td>0</td>\n",
       "      <td>0.284407</td>\n",
       "      <td>...</td>\n",
       "      <td>0.0</td>\n",
       "      <td>0.0</td>\n",
       "      <td>0.931448</td>\n",
       "      <td>0.500469</td>\n",
       "      <td>0.0</td>\n",
       "      <td>0.0</td>\n",
       "      <td>0.838953</td>\n",
       "      <td>0.0</td>\n",
       "      <td>1.0</td>\n",
       "      <td>0</td>\n",
       "    </tr>\n",
       "    <tr>\n",
       "      <th>169491</th>\n",
       "      <td>0.944365</td>\n",
       "      <td>99994</td>\n",
       "      <td>4574240820</td>\n",
       "      <td>1.0</td>\n",
       "      <td>0.766044</td>\n",
       "      <td>0.428571</td>\n",
       "      <td>1.0</td>\n",
       "      <td>0</td>\n",
       "      <td>0</td>\n",
       "      <td>0.284407</td>\n",
       "      <td>...</td>\n",
       "      <td>0.0</td>\n",
       "      <td>0.0</td>\n",
       "      <td>0.931541</td>\n",
       "      <td>0.521433</td>\n",
       "      <td>0.0</td>\n",
       "      <td>0.0</td>\n",
       "      <td>0.839369</td>\n",
       "      <td>0.0</td>\n",
       "      <td>1.0</td>\n",
       "      <td>0</td>\n",
       "    </tr>\n",
       "    <tr>\n",
       "      <th>169492</th>\n",
       "      <td>0.963927</td>\n",
       "      <td>99994</td>\n",
       "      <td>4574255220</td>\n",
       "      <td>1.0</td>\n",
       "      <td>0.766044</td>\n",
       "      <td>0.428571</td>\n",
       "      <td>1.0</td>\n",
       "      <td>0</td>\n",
       "      <td>0</td>\n",
       "      <td>0.284407</td>\n",
       "      <td>...</td>\n",
       "      <td>0.0</td>\n",
       "      <td>0.0</td>\n",
       "      <td>0.931616</td>\n",
       "      <td>0.500469</td>\n",
       "      <td>0.0</td>\n",
       "      <td>0.0</td>\n",
       "      <td>0.839703</td>\n",
       "      <td>0.0</td>\n",
       "      <td>1.0</td>\n",
       "      <td>0</td>\n",
       "    </tr>\n",
       "    <tr>\n",
       "      <th>169493</th>\n",
       "      <td>0.982436</td>\n",
       "      <td>99994</td>\n",
       "      <td>4574269620</td>\n",
       "      <td>1.0</td>\n",
       "      <td>0.766044</td>\n",
       "      <td>0.428571</td>\n",
       "      <td>1.0</td>\n",
       "      <td>0</td>\n",
       "      <td>0</td>\n",
       "      <td>0.284407</td>\n",
       "      <td>...</td>\n",
       "      <td>0.0</td>\n",
       "      <td>0.0</td>\n",
       "      <td>0.931691</td>\n",
       "      <td>0.500469</td>\n",
       "      <td>0.0</td>\n",
       "      <td>0.0</td>\n",
       "      <td>0.840036</td>\n",
       "      <td>0.0</td>\n",
       "      <td>1.0</td>\n",
       "      <td>0</td>\n",
       "    </tr>\n",
       "    <tr>\n",
       "      <th>169494</th>\n",
       "      <td>1.000000</td>\n",
       "      <td>99994</td>\n",
       "      <td>4574284020</td>\n",
       "      <td>1.0</td>\n",
       "      <td>0.766044</td>\n",
       "      <td>0.428571</td>\n",
       "      <td>1.0</td>\n",
       "      <td>0</td>\n",
       "      <td>0</td>\n",
       "      <td>0.284407</td>\n",
       "      <td>...</td>\n",
       "      <td>0.0</td>\n",
       "      <td>0.0</td>\n",
       "      <td>0.931765</td>\n",
       "      <td>0.500469</td>\n",
       "      <td>0.0</td>\n",
       "      <td>0.0</td>\n",
       "      <td>0.840369</td>\n",
       "      <td>0.0</td>\n",
       "      <td>1.0</td>\n",
       "      <td>0</td>\n",
       "    </tr>\n",
       "  </tbody>\n",
       "</table>\n",
       "<p>5 rows × 60 columns</p>\n",
       "</div>"
      ],
      "text/plain": [
       "            bloc  icustayid   charttime  gender       age  elixhauser  \\\n",
       "169490  0.923625      99994  4574226420     1.0  0.766044    0.428571   \n",
       "169491  0.944365      99994  4574240820     1.0  0.766044    0.428571   \n",
       "169492  0.963927      99994  4574255220     1.0  0.766044    0.428571   \n",
       "169493  0.982436      99994  4574269620     1.0  0.766044    0.428571   \n",
       "169494  1.000000      99994  4574284020     1.0  0.766044    0.428571   \n",
       "\n",
       "        re_admission  died_in_hosp  mortality_90d  Weight_kg   ...    \\\n",
       "169490           1.0             0              0   0.284407   ...     \n",
       "169491           1.0             0              0   0.284407   ...     \n",
       "169492           1.0             0              0   0.284407   ...     \n",
       "169493           1.0             0              0   0.284407   ...     \n",
       "169494           1.0             0              0   0.284407   ...     \n",
       "\n",
       "        median_dose_vaso  max_dose_vaso  input_total_tev  input_4hourly_tev  \\\n",
       "169490               0.0            0.0         0.931448           0.500469   \n",
       "169491               0.0            0.0         0.931541           0.521433   \n",
       "169492               0.0            0.0         0.931616           0.500469   \n",
       "169493               0.0            0.0         0.931691           0.500469   \n",
       "169494               0.0            0.0         0.931765           0.500469   \n",
       "\n",
       "        output_total  output_4hourly  cumulated_balance_tev  vaso_input  \\\n",
       "169490           0.0             0.0               0.838953         0.0   \n",
       "169491           0.0             0.0               0.839369         0.0   \n",
       "169492           0.0             0.0               0.839703         0.0   \n",
       "169493           0.0             0.0               0.840036         0.0   \n",
       "169494           0.0             0.0               0.840369         0.0   \n",
       "\n",
       "        iv_input  reward  \n",
       "169490       1.0       0  \n",
       "169491       1.0       0  \n",
       "169492       1.0       0  \n",
       "169493       1.0       0  \n",
       "169494       1.0       0  \n",
       "\n",
       "[5 rows x 60 columns]"
      ]
     },
     "execution_count": 41,
     "metadata": {},
     "output_type": "execute_result"
    }
   ],
   "source": [
    "df_train.tail()"
   ]
  },
  {
   "cell_type": "code",
   "execution_count": 42,
   "metadata": {},
   "outputs": [
    {
     "data": {
      "text/plain": [
       "242450"
      ]
     },
     "execution_count": 42,
     "metadata": {},
     "output_type": "execute_result"
    }
   ],
   "source": [
    "len(orig_df['shaped_reward'])"
   ]
  },
  {
   "cell_type": "code",
   "execution_count": 43,
   "metadata": {},
   "outputs": [
    {
     "data": {
      "text/plain": [
       "169495"
      ]
     },
     "execution_count": 43,
     "metadata": {},
     "output_type": "execute_result"
    }
   ],
   "source": [
    "len(df_train)"
   ]
  },
  {
   "cell_type": "code",
   "execution_count": 44,
   "metadata": {},
   "outputs": [
    {
     "data": {
      "text/plain": [
       "242450"
      ]
     },
     "execution_count": 44,
     "metadata": {},
     "output_type": "execute_result"
    }
   ],
   "source": [
    "# check that this sums to the total number of data items -- needs to be re-run\n",
    "len(df_train) + len(df_test) + len(df_val)"
   ]
  },
  {
   "cell_type": "code",
   "execution_count": 45,
   "metadata": {
    "collapsed": true
   },
   "outputs": [],
   "source": [
    "df_train['reward'] += np.array(train_rewards)\n",
    "df_val['reward'] += np.array(val_rewards)\n",
    "df_test['reward'] += np.array(test_rewards)"
   ]
  },
  {
   "cell_type": "code",
   "execution_count": 46,
   "metadata": {
    "collapsed": true
   },
   "outputs": [],
   "source": [
    "# df_train_disc['reward'] += np.array(train_rewards)\n",
    "# df_val_disc['reward'] += np.array(val_rewards)\n",
    "# df_test_disc['reward'] += np.array(test_rewards)"
   ]
  },
  {
   "cell_type": "code",
   "execution_count": 47,
   "metadata": {
    "collapsed": true
   },
   "outputs": [],
   "source": [
    "df_train.to_csv('../data/rl_train_data_final_cont_noterm.csv',index=False)\n",
    "df_val.to_csv('../data/rl_val_data_final_cont_noterm.csv', index=False)\n",
    "df_test.to_csv('../data/rl_test_data_final_cont_noterm.csv',index=False)"
   ]
  },
  {
   "cell_type": "code",
   "execution_count": 37,
   "metadata": {
    "collapsed": true
   },
   "outputs": [],
   "source": [
    "# df_train_disc.to_csv('../data/rl_train_data_final_disc.csv',index=False)\n",
    "# df_val_disc.to_csv('../data/rl_val_data_final_disc.csv', index=False)\n",
    "# df_test_disc.to_csv('../data/rl_test_data_final_disc.csv',index=False)"
   ]
  },
  {
   "cell_type": "code",
   "execution_count": 38,
   "metadata": {
    "collapsed": true
   },
   "outputs": [
    {
     "data": {
      "text/plain": [
       "0     0.125000\n",
       "1     0.657321\n",
       "2     1.367788\n",
       "3     1.199099\n",
       "4     1.057596\n",
       "5    -0.625000\n",
       "6     0.432822\n",
       "7     1.905144\n",
       "8    -0.375000\n",
       "9     0.054957\n",
       "10    0.054957\n",
       "11    0.054957\n",
       "12    0.054957\n",
       "13    0.000000\n",
       "14    0.125000\n",
       "15   -0.144856\n",
       "16   -0.104957\n",
       "17   -0.625000\n",
       "18    0.250000\n",
       "19   -0.025000\n",
       "Name: shaped_reward, dtype: float64"
      ]
     },
     "execution_count": 38,
     "metadata": {},
     "output_type": "execute_result"
    }
   ],
   "source": [
    "train_rewards.head(n=20)"
   ]
  },
  {
   "cell_type": "code",
   "execution_count": 39,
   "metadata": {
    "collapsed": true
   },
   "outputs": [
    {
     "data": {
      "text/plain": [
       "0      0.125000\n",
       "1      0.657321\n",
       "2      1.367788\n",
       "3      1.199099\n",
       "4      1.057596\n",
       "5     -0.625000\n",
       "6      0.432822\n",
       "7      1.905144\n",
       "8     -0.375000\n",
       "9      0.054957\n",
       "10     0.054957\n",
       "11     0.054957\n",
       "12     0.054957\n",
       "13    15.000000\n",
       "14     0.125000\n",
       "15    -0.144856\n",
       "16    -0.104957\n",
       "17    -0.625000\n",
       "18     0.250000\n",
       "19    -0.025000\n",
       "Name: reward, dtype: float64"
      ]
     },
     "execution_count": 39,
     "metadata": {},
     "output_type": "execute_result"
    }
   ],
   "source": [
    "df_train['reward'].head(n=20)"
   ]
  },
  {
   "cell_type": "code",
   "execution_count": null,
   "metadata": {
    "collapsed": true
   },
   "outputs": [],
   "source": []
  }
 ],
 "metadata": {
  "anaconda-cloud": {},
  "kernelspec": {
   "display_name": "Python [conda env:my_root]",
   "language": "python",
   "name": "conda-env-my_root-py"
  },
  "language_info": {
   "codemirror_mode": {
    "name": "ipython",
    "version": 3
   },
   "file_extension": ".py",
   "mimetype": "text/x-python",
   "name": "python",
   "nbconvert_exporter": "python",
   "pygments_lexer": "ipython3",
   "version": "3.5.4"
  }
 },
 "nbformat": 4,
 "nbformat_minor": 2
}
